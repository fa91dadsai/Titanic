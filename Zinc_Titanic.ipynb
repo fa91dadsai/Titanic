{
  "metadata": {
    "kernelspec": {
      "language": "python",
      "display_name": "Python 3",
      "name": "python3"
    },
    "language_info": {
      "name": "python",
      "version": "3.7.12",
      "mimetype": "text/x-python",
      "codemirror_mode": {
        "name": "ipython",
        "version": 3
      },
      "pygments_lexer": "ipython3",
      "nbconvert_exporter": "python",
      "file_extension": ".py"
    },
    "kaggle": {
      "accelerator": "none",
      "dataSources": [
        {
          "sourceId": 3136,
          "databundleVersionId": 26502,
          "sourceType": "competition"
        }
      ],
      "dockerImageVersionId": 30197,
      "isInternetEnabled": true,
      "language": "python",
      "sourceType": "notebook",
      "isGpuEnabled": false
    },
    "colab": {
      "name": "Zinc - Titanic 949606",
      "provenance": [],
      "include_colab_link": true
    },
    "widgets": {
      "application/vnd.jupyter.widget-state+json": {
        "6c016857d8e54bc39f70b2db2858e4c0": {
          "model_module": "@jupyter-widgets/controls",
          "model_name": "VBoxModel",
          "model_module_version": "1.5.0",
          "state": {
            "_dom_classes": [],
            "_model_module": "@jupyter-widgets/controls",
            "_model_module_version": "1.5.0",
            "_model_name": "VBoxModel",
            "_view_count": null,
            "_view_module": "@jupyter-widgets/controls",
            "_view_module_version": "1.5.0",
            "_view_name": "VBoxView",
            "box_style": "",
            "children": [
              "IPY_MODEL_5d7c3f36849e42538ee02ac9eecb0cb3"
            ],
            "layout": "IPY_MODEL_d072a633b2e442a48e01013aa6b87838"
          }
        },
        "8608fb8d0a3c4a7bbc6328031fd676e1": {
          "model_module": "@jupyter-widgets/controls",
          "model_name": "HTMLModel",
          "model_module_version": "1.5.0",
          "state": {
            "_dom_classes": [],
            "_model_module": "@jupyter-widgets/controls",
            "_model_module_version": "1.5.0",
            "_model_name": "HTMLModel",
            "_view_count": null,
            "_view_module": "@jupyter-widgets/controls",
            "_view_module_version": "1.5.0",
            "_view_name": "HTMLView",
            "description": "",
            "description_tooltip": null,
            "layout": "IPY_MODEL_78b58a7aecb349498c8a78cea9ccd272",
            "placeholder": "​",
            "style": "IPY_MODEL_1353fb611d1b45188fa50d5b31b527d3",
            "value": "<center> <img\nsrc=https://www.kaggle.com/static/images/site-logo.png\nalt='Kaggle'> <br> Create an API token from <a\nhref=\"https://www.kaggle.com/settings/account\" target=\"_blank\">your Kaggle\nsettings page</a> and paste it below along with your Kaggle username. <br> </center>"
          }
        },
        "25b91e0393264241bde8fc014f964903": {
          "model_module": "@jupyter-widgets/controls",
          "model_name": "TextModel",
          "model_module_version": "1.5.0",
          "state": {
            "_dom_classes": [],
            "_model_module": "@jupyter-widgets/controls",
            "_model_module_version": "1.5.0",
            "_model_name": "TextModel",
            "_view_count": null,
            "_view_module": "@jupyter-widgets/controls",
            "_view_module_version": "1.5.0",
            "_view_name": "TextView",
            "continuous_update": true,
            "description": "Username:",
            "description_tooltip": null,
            "disabled": false,
            "layout": "IPY_MODEL_89bf192b62124f69ac55eec03207cc98",
            "placeholder": "​",
            "style": "IPY_MODEL_8ef3df5d6fcc4de48a6d47eb48a276c7",
            "value": "fadiedmounayoub"
          }
        },
        "0777f55f4023493084e26cd69e7e6feb": {
          "model_module": "@jupyter-widgets/controls",
          "model_name": "PasswordModel",
          "model_module_version": "1.5.0",
          "state": {
            "_dom_classes": [],
            "_model_module": "@jupyter-widgets/controls",
            "_model_module_version": "1.5.0",
            "_model_name": "PasswordModel",
            "_view_count": null,
            "_view_module": "@jupyter-widgets/controls",
            "_view_module_version": "1.5.0",
            "_view_name": "PasswordView",
            "continuous_update": true,
            "description": "Token:",
            "description_tooltip": null,
            "disabled": false,
            "layout": "IPY_MODEL_cb9a6caa2aa34e9781a56f3f86aafb35",
            "placeholder": "​",
            "style": "IPY_MODEL_591092a929924ac3a54c92caf0efe55d",
            "value": ""
          }
        },
        "60eec02362a74e04b6bfb48bcb5d482a": {
          "model_module": "@jupyter-widgets/controls",
          "model_name": "ButtonModel",
          "model_module_version": "1.5.0",
          "state": {
            "_dom_classes": [],
            "_model_module": "@jupyter-widgets/controls",
            "_model_module_version": "1.5.0",
            "_model_name": "ButtonModel",
            "_view_count": null,
            "_view_module": "@jupyter-widgets/controls",
            "_view_module_version": "1.5.0",
            "_view_name": "ButtonView",
            "button_style": "",
            "description": "Login",
            "disabled": false,
            "icon": "",
            "layout": "IPY_MODEL_f86e48ad6c954329a53cb313573b3f24",
            "style": "IPY_MODEL_a2493971aa894f9a973065d275969ee9",
            "tooltip": ""
          }
        },
        "8cbbab4b31e846db99a8136f8f390a8b": {
          "model_module": "@jupyter-widgets/controls",
          "model_name": "HTMLModel",
          "model_module_version": "1.5.0",
          "state": {
            "_dom_classes": [],
            "_model_module": "@jupyter-widgets/controls",
            "_model_module_version": "1.5.0",
            "_model_name": "HTMLModel",
            "_view_count": null,
            "_view_module": "@jupyter-widgets/controls",
            "_view_module_version": "1.5.0",
            "_view_name": "HTMLView",
            "description": "",
            "description_tooltip": null,
            "layout": "IPY_MODEL_e79adbe165b74058bdb2ad943bf73490",
            "placeholder": "​",
            "style": "IPY_MODEL_02f2688017d94bca9df010b0bf317b44",
            "value": "\n<b>Thank You</b></center>"
          }
        },
        "d072a633b2e442a48e01013aa6b87838": {
          "model_module": "@jupyter-widgets/base",
          "model_name": "LayoutModel",
          "model_module_version": "1.2.0",
          "state": {
            "_model_module": "@jupyter-widgets/base",
            "_model_module_version": "1.2.0",
            "_model_name": "LayoutModel",
            "_view_count": null,
            "_view_module": "@jupyter-widgets/base",
            "_view_module_version": "1.2.0",
            "_view_name": "LayoutView",
            "align_content": null,
            "align_items": "center",
            "align_self": null,
            "border": null,
            "bottom": null,
            "display": "flex",
            "flex": null,
            "flex_flow": "column",
            "grid_area": null,
            "grid_auto_columns": null,
            "grid_auto_flow": null,
            "grid_auto_rows": null,
            "grid_column": null,
            "grid_gap": null,
            "grid_row": null,
            "grid_template_areas": null,
            "grid_template_columns": null,
            "grid_template_rows": null,
            "height": null,
            "justify_content": null,
            "justify_items": null,
            "left": null,
            "margin": null,
            "max_height": null,
            "max_width": null,
            "min_height": null,
            "min_width": null,
            "object_fit": null,
            "object_position": null,
            "order": null,
            "overflow": null,
            "overflow_x": null,
            "overflow_y": null,
            "padding": null,
            "right": null,
            "top": null,
            "visibility": null,
            "width": "50%"
          }
        },
        "78b58a7aecb349498c8a78cea9ccd272": {
          "model_module": "@jupyter-widgets/base",
          "model_name": "LayoutModel",
          "model_module_version": "1.2.0",
          "state": {
            "_model_module": "@jupyter-widgets/base",
            "_model_module_version": "1.2.0",
            "_model_name": "LayoutModel",
            "_view_count": null,
            "_view_module": "@jupyter-widgets/base",
            "_view_module_version": "1.2.0",
            "_view_name": "LayoutView",
            "align_content": null,
            "align_items": null,
            "align_self": null,
            "border": null,
            "bottom": null,
            "display": null,
            "flex": null,
            "flex_flow": null,
            "grid_area": null,
            "grid_auto_columns": null,
            "grid_auto_flow": null,
            "grid_auto_rows": null,
            "grid_column": null,
            "grid_gap": null,
            "grid_row": null,
            "grid_template_areas": null,
            "grid_template_columns": null,
            "grid_template_rows": null,
            "height": null,
            "justify_content": null,
            "justify_items": null,
            "left": null,
            "margin": null,
            "max_height": null,
            "max_width": null,
            "min_height": null,
            "min_width": null,
            "object_fit": null,
            "object_position": null,
            "order": null,
            "overflow": null,
            "overflow_x": null,
            "overflow_y": null,
            "padding": null,
            "right": null,
            "top": null,
            "visibility": null,
            "width": null
          }
        },
        "1353fb611d1b45188fa50d5b31b527d3": {
          "model_module": "@jupyter-widgets/controls",
          "model_name": "DescriptionStyleModel",
          "model_module_version": "1.5.0",
          "state": {
            "_model_module": "@jupyter-widgets/controls",
            "_model_module_version": "1.5.0",
            "_model_name": "DescriptionStyleModel",
            "_view_count": null,
            "_view_module": "@jupyter-widgets/base",
            "_view_module_version": "1.2.0",
            "_view_name": "StyleView",
            "description_width": ""
          }
        },
        "89bf192b62124f69ac55eec03207cc98": {
          "model_module": "@jupyter-widgets/base",
          "model_name": "LayoutModel",
          "model_module_version": "1.2.0",
          "state": {
            "_model_module": "@jupyter-widgets/base",
            "_model_module_version": "1.2.0",
            "_model_name": "LayoutModel",
            "_view_count": null,
            "_view_module": "@jupyter-widgets/base",
            "_view_module_version": "1.2.0",
            "_view_name": "LayoutView",
            "align_content": null,
            "align_items": null,
            "align_self": null,
            "border": null,
            "bottom": null,
            "display": null,
            "flex": null,
            "flex_flow": null,
            "grid_area": null,
            "grid_auto_columns": null,
            "grid_auto_flow": null,
            "grid_auto_rows": null,
            "grid_column": null,
            "grid_gap": null,
            "grid_row": null,
            "grid_template_areas": null,
            "grid_template_columns": null,
            "grid_template_rows": null,
            "height": null,
            "justify_content": null,
            "justify_items": null,
            "left": null,
            "margin": null,
            "max_height": null,
            "max_width": null,
            "min_height": null,
            "min_width": null,
            "object_fit": null,
            "object_position": null,
            "order": null,
            "overflow": null,
            "overflow_x": null,
            "overflow_y": null,
            "padding": null,
            "right": null,
            "top": null,
            "visibility": null,
            "width": null
          }
        },
        "8ef3df5d6fcc4de48a6d47eb48a276c7": {
          "model_module": "@jupyter-widgets/controls",
          "model_name": "DescriptionStyleModel",
          "model_module_version": "1.5.0",
          "state": {
            "_model_module": "@jupyter-widgets/controls",
            "_model_module_version": "1.5.0",
            "_model_name": "DescriptionStyleModel",
            "_view_count": null,
            "_view_module": "@jupyter-widgets/base",
            "_view_module_version": "1.2.0",
            "_view_name": "StyleView",
            "description_width": ""
          }
        },
        "cb9a6caa2aa34e9781a56f3f86aafb35": {
          "model_module": "@jupyter-widgets/base",
          "model_name": "LayoutModel",
          "model_module_version": "1.2.0",
          "state": {
            "_model_module": "@jupyter-widgets/base",
            "_model_module_version": "1.2.0",
            "_model_name": "LayoutModel",
            "_view_count": null,
            "_view_module": "@jupyter-widgets/base",
            "_view_module_version": "1.2.0",
            "_view_name": "LayoutView",
            "align_content": null,
            "align_items": null,
            "align_self": null,
            "border": null,
            "bottom": null,
            "display": null,
            "flex": null,
            "flex_flow": null,
            "grid_area": null,
            "grid_auto_columns": null,
            "grid_auto_flow": null,
            "grid_auto_rows": null,
            "grid_column": null,
            "grid_gap": null,
            "grid_row": null,
            "grid_template_areas": null,
            "grid_template_columns": null,
            "grid_template_rows": null,
            "height": null,
            "justify_content": null,
            "justify_items": null,
            "left": null,
            "margin": null,
            "max_height": null,
            "max_width": null,
            "min_height": null,
            "min_width": null,
            "object_fit": null,
            "object_position": null,
            "order": null,
            "overflow": null,
            "overflow_x": null,
            "overflow_y": null,
            "padding": null,
            "right": null,
            "top": null,
            "visibility": null,
            "width": null
          }
        },
        "591092a929924ac3a54c92caf0efe55d": {
          "model_module": "@jupyter-widgets/controls",
          "model_name": "DescriptionStyleModel",
          "model_module_version": "1.5.0",
          "state": {
            "_model_module": "@jupyter-widgets/controls",
            "_model_module_version": "1.5.0",
            "_model_name": "DescriptionStyleModel",
            "_view_count": null,
            "_view_module": "@jupyter-widgets/base",
            "_view_module_version": "1.2.0",
            "_view_name": "StyleView",
            "description_width": ""
          }
        },
        "f86e48ad6c954329a53cb313573b3f24": {
          "model_module": "@jupyter-widgets/base",
          "model_name": "LayoutModel",
          "model_module_version": "1.2.0",
          "state": {
            "_model_module": "@jupyter-widgets/base",
            "_model_module_version": "1.2.0",
            "_model_name": "LayoutModel",
            "_view_count": null,
            "_view_module": "@jupyter-widgets/base",
            "_view_module_version": "1.2.0",
            "_view_name": "LayoutView",
            "align_content": null,
            "align_items": null,
            "align_self": null,
            "border": null,
            "bottom": null,
            "display": null,
            "flex": null,
            "flex_flow": null,
            "grid_area": null,
            "grid_auto_columns": null,
            "grid_auto_flow": null,
            "grid_auto_rows": null,
            "grid_column": null,
            "grid_gap": null,
            "grid_row": null,
            "grid_template_areas": null,
            "grid_template_columns": null,
            "grid_template_rows": null,
            "height": null,
            "justify_content": null,
            "justify_items": null,
            "left": null,
            "margin": null,
            "max_height": null,
            "max_width": null,
            "min_height": null,
            "min_width": null,
            "object_fit": null,
            "object_position": null,
            "order": null,
            "overflow": null,
            "overflow_x": null,
            "overflow_y": null,
            "padding": null,
            "right": null,
            "top": null,
            "visibility": null,
            "width": null
          }
        },
        "a2493971aa894f9a973065d275969ee9": {
          "model_module": "@jupyter-widgets/controls",
          "model_name": "ButtonStyleModel",
          "model_module_version": "1.5.0",
          "state": {
            "_model_module": "@jupyter-widgets/controls",
            "_model_module_version": "1.5.0",
            "_model_name": "ButtonStyleModel",
            "_view_count": null,
            "_view_module": "@jupyter-widgets/base",
            "_view_module_version": "1.2.0",
            "_view_name": "StyleView",
            "button_color": null,
            "font_weight": ""
          }
        },
        "e79adbe165b74058bdb2ad943bf73490": {
          "model_module": "@jupyter-widgets/base",
          "model_name": "LayoutModel",
          "model_module_version": "1.2.0",
          "state": {
            "_model_module": "@jupyter-widgets/base",
            "_model_module_version": "1.2.0",
            "_model_name": "LayoutModel",
            "_view_count": null,
            "_view_module": "@jupyter-widgets/base",
            "_view_module_version": "1.2.0",
            "_view_name": "LayoutView",
            "align_content": null,
            "align_items": null,
            "align_self": null,
            "border": null,
            "bottom": null,
            "display": null,
            "flex": null,
            "flex_flow": null,
            "grid_area": null,
            "grid_auto_columns": null,
            "grid_auto_flow": null,
            "grid_auto_rows": null,
            "grid_column": null,
            "grid_gap": null,
            "grid_row": null,
            "grid_template_areas": null,
            "grid_template_columns": null,
            "grid_template_rows": null,
            "height": null,
            "justify_content": null,
            "justify_items": null,
            "left": null,
            "margin": null,
            "max_height": null,
            "max_width": null,
            "min_height": null,
            "min_width": null,
            "object_fit": null,
            "object_position": null,
            "order": null,
            "overflow": null,
            "overflow_x": null,
            "overflow_y": null,
            "padding": null,
            "right": null,
            "top": null,
            "visibility": null,
            "width": null
          }
        },
        "02f2688017d94bca9df010b0bf317b44": {
          "model_module": "@jupyter-widgets/controls",
          "model_name": "DescriptionStyleModel",
          "model_module_version": "1.5.0",
          "state": {
            "_model_module": "@jupyter-widgets/controls",
            "_model_module_version": "1.5.0",
            "_model_name": "DescriptionStyleModel",
            "_view_count": null,
            "_view_module": "@jupyter-widgets/base",
            "_view_module_version": "1.2.0",
            "_view_name": "StyleView",
            "description_width": ""
          }
        },
        "0f55fa2dcbf9490c8b72cc2249701e6e": {
          "model_module": "@jupyter-widgets/controls",
          "model_name": "LabelModel",
          "model_module_version": "1.5.0",
          "state": {
            "_dom_classes": [],
            "_model_module": "@jupyter-widgets/controls",
            "_model_module_version": "1.5.0",
            "_model_name": "LabelModel",
            "_view_count": null,
            "_view_module": "@jupyter-widgets/controls",
            "_view_module_version": "1.5.0",
            "_view_name": "LabelView",
            "description": "",
            "description_tooltip": null,
            "layout": "IPY_MODEL_5081ea1954a14312aedc8d026b5cfbf2",
            "placeholder": "​",
            "style": "IPY_MODEL_7829435ea18c4ed6b81f6fa4e155223e",
            "value": "Connecting..."
          }
        },
        "5081ea1954a14312aedc8d026b5cfbf2": {
          "model_module": "@jupyter-widgets/base",
          "model_name": "LayoutModel",
          "model_module_version": "1.2.0",
          "state": {
            "_model_module": "@jupyter-widgets/base",
            "_model_module_version": "1.2.0",
            "_model_name": "LayoutModel",
            "_view_count": null,
            "_view_module": "@jupyter-widgets/base",
            "_view_module_version": "1.2.0",
            "_view_name": "LayoutView",
            "align_content": null,
            "align_items": null,
            "align_self": null,
            "border": null,
            "bottom": null,
            "display": null,
            "flex": null,
            "flex_flow": null,
            "grid_area": null,
            "grid_auto_columns": null,
            "grid_auto_flow": null,
            "grid_auto_rows": null,
            "grid_column": null,
            "grid_gap": null,
            "grid_row": null,
            "grid_template_areas": null,
            "grid_template_columns": null,
            "grid_template_rows": null,
            "height": null,
            "justify_content": null,
            "justify_items": null,
            "left": null,
            "margin": null,
            "max_height": null,
            "max_width": null,
            "min_height": null,
            "min_width": null,
            "object_fit": null,
            "object_position": null,
            "order": null,
            "overflow": null,
            "overflow_x": null,
            "overflow_y": null,
            "padding": null,
            "right": null,
            "top": null,
            "visibility": null,
            "width": null
          }
        },
        "7829435ea18c4ed6b81f6fa4e155223e": {
          "model_module": "@jupyter-widgets/controls",
          "model_name": "DescriptionStyleModel",
          "model_module_version": "1.5.0",
          "state": {
            "_model_module": "@jupyter-widgets/controls",
            "_model_module_version": "1.5.0",
            "_model_name": "DescriptionStyleModel",
            "_view_count": null,
            "_view_module": "@jupyter-widgets/base",
            "_view_module_version": "1.2.0",
            "_view_name": "StyleView",
            "description_width": ""
          }
        },
        "5d7c3f36849e42538ee02ac9eecb0cb3": {
          "model_module": "@jupyter-widgets/controls",
          "model_name": "LabelModel",
          "model_module_version": "1.5.0",
          "state": {
            "_dom_classes": [],
            "_model_module": "@jupyter-widgets/controls",
            "_model_module_version": "1.5.0",
            "_model_name": "LabelModel",
            "_view_count": null,
            "_view_module": "@jupyter-widgets/controls",
            "_view_module_version": "1.5.0",
            "_view_name": "LabelView",
            "description": "",
            "description_tooltip": null,
            "layout": "IPY_MODEL_31c34789d57e477187b205fd37d2c8f6",
            "placeholder": "​",
            "style": "IPY_MODEL_b436f3b6ab404517bddcd19333a07214",
            "value": "Kaggle credentials successfully validated."
          }
        },
        "31c34789d57e477187b205fd37d2c8f6": {
          "model_module": "@jupyter-widgets/base",
          "model_name": "LayoutModel",
          "model_module_version": "1.2.0",
          "state": {
            "_model_module": "@jupyter-widgets/base",
            "_model_module_version": "1.2.0",
            "_model_name": "LayoutModel",
            "_view_count": null,
            "_view_module": "@jupyter-widgets/base",
            "_view_module_version": "1.2.0",
            "_view_name": "LayoutView",
            "align_content": null,
            "align_items": null,
            "align_self": null,
            "border": null,
            "bottom": null,
            "display": null,
            "flex": null,
            "flex_flow": null,
            "grid_area": null,
            "grid_auto_columns": null,
            "grid_auto_flow": null,
            "grid_auto_rows": null,
            "grid_column": null,
            "grid_gap": null,
            "grid_row": null,
            "grid_template_areas": null,
            "grid_template_columns": null,
            "grid_template_rows": null,
            "height": null,
            "justify_content": null,
            "justify_items": null,
            "left": null,
            "margin": null,
            "max_height": null,
            "max_width": null,
            "min_height": null,
            "min_width": null,
            "object_fit": null,
            "object_position": null,
            "order": null,
            "overflow": null,
            "overflow_x": null,
            "overflow_y": null,
            "padding": null,
            "right": null,
            "top": null,
            "visibility": null,
            "width": null
          }
        },
        "b436f3b6ab404517bddcd19333a07214": {
          "model_module": "@jupyter-widgets/controls",
          "model_name": "DescriptionStyleModel",
          "model_module_version": "1.5.0",
          "state": {
            "_model_module": "@jupyter-widgets/controls",
            "_model_module_version": "1.5.0",
            "_model_name": "DescriptionStyleModel",
            "_view_count": null,
            "_view_module": "@jupyter-widgets/base",
            "_view_module_version": "1.2.0",
            "_view_name": "StyleView",
            "description_width": ""
          }
        }
      }
    }
  },
  "nbformat_minor": 0,
  "nbformat": 4,
  "cells": [
    {
      "cell_type": "markdown",
      "metadata": {
        "id": "view-in-github",
        "colab_type": "text"
      },
      "source": [
        "<a href=\"https://colab.research.google.com/github/fa91dadsai/Titanic/blob/main/Zinc_Titanic.ipynb\" target=\"_parent\"><img src=\"https://colab.research.google.com/assets/colab-badge.svg\" alt=\"Open In Colab\"/></a>"
      ]
    },
    {
      "source": [
        "# IMPORTANT: SOME KAGGLE DATA SOURCES ARE PRIVATE\n",
        "# RUN THIS CELL IN ORDER TO IMPORT YOUR KAGGLE DATA SOURCES.\n",
        "import kagglehub\n",
        "kagglehub.login()\n"
      ],
      "metadata": {
        "colab": {
          "base_uri": "https://localhost:8080/",
          "height": 84,
          "referenced_widgets": [
            "6c016857d8e54bc39f70b2db2858e4c0",
            "8608fb8d0a3c4a7bbc6328031fd676e1",
            "25b91e0393264241bde8fc014f964903",
            "0777f55f4023493084e26cd69e7e6feb",
            "60eec02362a74e04b6bfb48bcb5d482a",
            "8cbbab4b31e846db99a8136f8f390a8b",
            "d072a633b2e442a48e01013aa6b87838",
            "78b58a7aecb349498c8a78cea9ccd272",
            "1353fb611d1b45188fa50d5b31b527d3",
            "89bf192b62124f69ac55eec03207cc98",
            "8ef3df5d6fcc4de48a6d47eb48a276c7",
            "cb9a6caa2aa34e9781a56f3f86aafb35",
            "591092a929924ac3a54c92caf0efe55d",
            "f86e48ad6c954329a53cb313573b3f24",
            "a2493971aa894f9a973065d275969ee9",
            "e79adbe165b74058bdb2ad943bf73490",
            "02f2688017d94bca9df010b0bf317b44",
            "0f55fa2dcbf9490c8b72cc2249701e6e",
            "5081ea1954a14312aedc8d026b5cfbf2",
            "7829435ea18c4ed6b81f6fa4e155223e",
            "5d7c3f36849e42538ee02ac9eecb0cb3",
            "31c34789d57e477187b205fd37d2c8f6",
            "b436f3b6ab404517bddcd19333a07214"
          ]
        },
        "id": "gSSXsON8ioIq",
        "outputId": "bafb3ae3-6600-4e17-f2c2-2b2ee51533f3"
      },
      "cell_type": "code",
      "outputs": [
        {
          "output_type": "display_data",
          "data": {
            "text/plain": [
              "VBox(children=(HTML(value='<center> <img\\nsrc=https://www.kaggle.com/static/images/site-logo.png\\nalt=\\'Kaggle…"
            ],
            "application/vnd.jupyter.widget-view+json": {
              "version_major": 2,
              "version_minor": 0,
              "model_id": "6c016857d8e54bc39f70b2db2858e4c0"
            }
          },
          "metadata": {}
        },
        {
          "output_type": "stream",
          "name": "stdout",
          "text": [
            "Kaggle credentials set.\n",
            "Kaggle credentials successfully validated.\n"
          ]
        }
      ],
      "execution_count": 3
    },
    {
      "source": [
        "# IMPORTANT: RUN THIS CELL IN ORDER TO IMPORT YOUR KAGGLE DATA SOURCES,\n",
        "# THEN FEEL FREE TO DELETE THIS CELL.\n",
        "# NOTE: THIS NOTEBOOK ENVIRONMENT DIFFERS FROM KAGGLE'S PYTHON\n",
        "# ENVIRONMENT SO THERE MAY BE MISSING LIBRARIES USED BY YOUR\n",
        "# NOTEBOOK.\n",
        "\n",
        "titanic_path = kagglehub.competition_download('titanic')\n",
        "\n",
        "print('Data source import complete.')\n"
      ],
      "metadata": {
        "colab": {
          "base_uri": "https://localhost:8080/"
        },
        "id": "GidoWFvHioIq",
        "outputId": "fc1dc187-c6c6-48b7-e411-e0d473172b22"
      },
      "cell_type": "code",
      "outputs": [
        {
          "output_type": "stream",
          "name": "stdout",
          "text": [
            "Downloading from https://www.kaggle.com/api/v1/competitions/data/download-all/titanic...\n"
          ]
        },
        {
          "output_type": "stream",
          "name": "stderr",
          "text": [
            "100%|██████████| 34.1k/34.1k [00:00<00:00, 25.9MB/s]"
          ]
        },
        {
          "output_type": "stream",
          "name": "stdout",
          "text": [
            "Extracting files...\n",
            "Data source import complete.\n"
          ]
        },
        {
          "output_type": "stream",
          "name": "stderr",
          "text": [
            "\n"
          ]
        }
      ],
      "execution_count": 5
    },
    {
      "cell_type": "code",
      "source": [
        "titanic_path"
      ],
      "metadata": {
        "colab": {
          "base_uri": "https://localhost:8080/",
          "height": 36
        },
        "id": "Gy9ot-NYjDuf",
        "outputId": "af078b2a-4c98-4058-eba5-4329070a2312"
      },
      "execution_count": 6,
      "outputs": [
        {
          "output_type": "execute_result",
          "data": {
            "text/plain": [
              "'/root/.cache/kagglehub/competitions/titanic'"
            ],
            "application/vnd.google.colaboratory.intrinsic+json": {
              "type": "string"
            }
          },
          "metadata": {},
          "execution_count": 6
        }
      ]
    },
    {
      "cell_type": "code",
      "source": [
        "import pandas as pd\n",
        "import numpy as np"
      ],
      "metadata": {
        "execution": {
          "iopub.status.busy": "2025-08-02T10:40:00.756832Z",
          "iopub.execute_input": "2025-08-02T10:40:00.757329Z",
          "iopub.status.idle": "2025-08-02T10:40:00.765983Z",
          "shell.execute_reply.started": "2025-08-02T10:40:00.75729Z",
          "shell.execute_reply": "2025-08-02T10:40:00.764642Z"
        },
        "trusted": true,
        "id": "f12zk7I_ioIr"
      },
      "outputs": [],
      "execution_count": 7
    },
    {
      "cell_type": "code",
      "source": [
        "df = pd.read_csv(titanic_path + '/train.csv')\n",
        "df.shape"
      ],
      "metadata": {
        "execution": {
          "iopub.status.busy": "2025-08-02T10:40:01.848326Z",
          "iopub.execute_input": "2025-08-02T10:40:01.848883Z",
          "iopub.status.idle": "2025-08-02T10:40:01.877163Z",
          "shell.execute_reply.started": "2025-08-02T10:40:01.84884Z",
          "shell.execute_reply": "2025-08-02T10:40:01.875977Z"
        },
        "trusted": true,
        "colab": {
          "base_uri": "https://localhost:8080/"
        },
        "id": "037aTpy-ioIr",
        "outputId": "5422a558-50a7-43ba-928b-7078142d5f4a"
      },
      "outputs": [
        {
          "output_type": "execute_result",
          "data": {
            "text/plain": [
              "(891, 12)"
            ]
          },
          "metadata": {},
          "execution_count": 8
        }
      ],
      "execution_count": 8
    },
    {
      "cell_type": "code",
      "source": [
        "df.head()"
      ],
      "metadata": {
        "execution": {
          "iopub.status.busy": "2025-08-02T10:40:03.036993Z",
          "iopub.execute_input": "2025-08-02T10:40:03.037551Z",
          "iopub.status.idle": "2025-08-02T10:40:03.068223Z",
          "shell.execute_reply.started": "2025-08-02T10:40:03.037501Z",
          "shell.execute_reply": "2025-08-02T10:40:03.06677Z"
        },
        "trusted": true,
        "colab": {
          "base_uri": "https://localhost:8080/",
          "height": 206
        },
        "id": "kXPGjNc9ioIs",
        "outputId": "aca7d5a4-9f9d-4141-d65b-1a3457daa147"
      },
      "outputs": [
        {
          "output_type": "execute_result",
          "data": {
            "text/plain": [
              "   PassengerId  Survived  Pclass  \\\n",
              "0            1         0       3   \n",
              "1            2         1       1   \n",
              "2            3         1       3   \n",
              "3            4         1       1   \n",
              "4            5         0       3   \n",
              "\n",
              "                                                Name     Sex   Age  SibSp  \\\n",
              "0                            Braund, Mr. Owen Harris    male  22.0      1   \n",
              "1  Cumings, Mrs. John Bradley (Florence Briggs Th...  female  38.0      1   \n",
              "2                             Heikkinen, Miss. Laina  female  26.0      0   \n",
              "3       Futrelle, Mrs. Jacques Heath (Lily May Peel)  female  35.0      1   \n",
              "4                           Allen, Mr. William Henry    male  35.0      0   \n",
              "\n",
              "   Parch            Ticket     Fare Cabin Embarked  \n",
              "0      0         A/5 21171   7.2500   NaN        S  \n",
              "1      0          PC 17599  71.2833   C85        C  \n",
              "2      0  STON/O2. 3101282   7.9250   NaN        S  \n",
              "3      0            113803  53.1000  C123        S  \n",
              "4      0            373450   8.0500   NaN        S  "
            ],
            "text/html": [
              "\n",
              "  <div id=\"df-03eb6b5f-2daa-4478-b5c2-e7b5d6f533ad\" class=\"colab-df-container\">\n",
              "    <div>\n",
              "<style scoped>\n",
              "    .dataframe tbody tr th:only-of-type {\n",
              "        vertical-align: middle;\n",
              "    }\n",
              "\n",
              "    .dataframe tbody tr th {\n",
              "        vertical-align: top;\n",
              "    }\n",
              "\n",
              "    .dataframe thead th {\n",
              "        text-align: right;\n",
              "    }\n",
              "</style>\n",
              "<table border=\"1\" class=\"dataframe\">\n",
              "  <thead>\n",
              "    <tr style=\"text-align: right;\">\n",
              "      <th></th>\n",
              "      <th>PassengerId</th>\n",
              "      <th>Survived</th>\n",
              "      <th>Pclass</th>\n",
              "      <th>Name</th>\n",
              "      <th>Sex</th>\n",
              "      <th>Age</th>\n",
              "      <th>SibSp</th>\n",
              "      <th>Parch</th>\n",
              "      <th>Ticket</th>\n",
              "      <th>Fare</th>\n",
              "      <th>Cabin</th>\n",
              "      <th>Embarked</th>\n",
              "    </tr>\n",
              "  </thead>\n",
              "  <tbody>\n",
              "    <tr>\n",
              "      <th>0</th>\n",
              "      <td>1</td>\n",
              "      <td>0</td>\n",
              "      <td>3</td>\n",
              "      <td>Braund, Mr. Owen Harris</td>\n",
              "      <td>male</td>\n",
              "      <td>22.0</td>\n",
              "      <td>1</td>\n",
              "      <td>0</td>\n",
              "      <td>A/5 21171</td>\n",
              "      <td>7.2500</td>\n",
              "      <td>NaN</td>\n",
              "      <td>S</td>\n",
              "    </tr>\n",
              "    <tr>\n",
              "      <th>1</th>\n",
              "      <td>2</td>\n",
              "      <td>1</td>\n",
              "      <td>1</td>\n",
              "      <td>Cumings, Mrs. John Bradley (Florence Briggs Th...</td>\n",
              "      <td>female</td>\n",
              "      <td>38.0</td>\n",
              "      <td>1</td>\n",
              "      <td>0</td>\n",
              "      <td>PC 17599</td>\n",
              "      <td>71.2833</td>\n",
              "      <td>C85</td>\n",
              "      <td>C</td>\n",
              "    </tr>\n",
              "    <tr>\n",
              "      <th>2</th>\n",
              "      <td>3</td>\n",
              "      <td>1</td>\n",
              "      <td>3</td>\n",
              "      <td>Heikkinen, Miss. Laina</td>\n",
              "      <td>female</td>\n",
              "      <td>26.0</td>\n",
              "      <td>0</td>\n",
              "      <td>0</td>\n",
              "      <td>STON/O2. 3101282</td>\n",
              "      <td>7.9250</td>\n",
              "      <td>NaN</td>\n",
              "      <td>S</td>\n",
              "    </tr>\n",
              "    <tr>\n",
              "      <th>3</th>\n",
              "      <td>4</td>\n",
              "      <td>1</td>\n",
              "      <td>1</td>\n",
              "      <td>Futrelle, Mrs. Jacques Heath (Lily May Peel)</td>\n",
              "      <td>female</td>\n",
              "      <td>35.0</td>\n",
              "      <td>1</td>\n",
              "      <td>0</td>\n",
              "      <td>113803</td>\n",
              "      <td>53.1000</td>\n",
              "      <td>C123</td>\n",
              "      <td>S</td>\n",
              "    </tr>\n",
              "    <tr>\n",
              "      <th>4</th>\n",
              "      <td>5</td>\n",
              "      <td>0</td>\n",
              "      <td>3</td>\n",
              "      <td>Allen, Mr. William Henry</td>\n",
              "      <td>male</td>\n",
              "      <td>35.0</td>\n",
              "      <td>0</td>\n",
              "      <td>0</td>\n",
              "      <td>373450</td>\n",
              "      <td>8.0500</td>\n",
              "      <td>NaN</td>\n",
              "      <td>S</td>\n",
              "    </tr>\n",
              "  </tbody>\n",
              "</table>\n",
              "</div>\n",
              "    <div class=\"colab-df-buttons\">\n",
              "\n",
              "  <div class=\"colab-df-container\">\n",
              "    <button class=\"colab-df-convert\" onclick=\"convertToInteractive('df-03eb6b5f-2daa-4478-b5c2-e7b5d6f533ad')\"\n",
              "            title=\"Convert this dataframe to an interactive table.\"\n",
              "            style=\"display:none;\">\n",
              "\n",
              "  <svg xmlns=\"http://www.w3.org/2000/svg\" height=\"24px\" viewBox=\"0 -960 960 960\">\n",
              "    <path d=\"M120-120v-720h720v720H120Zm60-500h600v-160H180v160Zm220 220h160v-160H400v160Zm0 220h160v-160H400v160ZM180-400h160v-160H180v160Zm440 0h160v-160H620v160ZM180-180h160v-160H180v160Zm440 0h160v-160H620v160Z\"/>\n",
              "  </svg>\n",
              "    </button>\n",
              "\n",
              "  <style>\n",
              "    .colab-df-container {\n",
              "      display:flex;\n",
              "      gap: 12px;\n",
              "    }\n",
              "\n",
              "    .colab-df-convert {\n",
              "      background-color: #E8F0FE;\n",
              "      border: none;\n",
              "      border-radius: 50%;\n",
              "      cursor: pointer;\n",
              "      display: none;\n",
              "      fill: #1967D2;\n",
              "      height: 32px;\n",
              "      padding: 0 0 0 0;\n",
              "      width: 32px;\n",
              "    }\n",
              "\n",
              "    .colab-df-convert:hover {\n",
              "      background-color: #E2EBFA;\n",
              "      box-shadow: 0px 1px 2px rgba(60, 64, 67, 0.3), 0px 1px 3px 1px rgba(60, 64, 67, 0.15);\n",
              "      fill: #174EA6;\n",
              "    }\n",
              "\n",
              "    .colab-df-buttons div {\n",
              "      margin-bottom: 4px;\n",
              "    }\n",
              "\n",
              "    [theme=dark] .colab-df-convert {\n",
              "      background-color: #3B4455;\n",
              "      fill: #D2E3FC;\n",
              "    }\n",
              "\n",
              "    [theme=dark] .colab-df-convert:hover {\n",
              "      background-color: #434B5C;\n",
              "      box-shadow: 0px 1px 3px 1px rgba(0, 0, 0, 0.15);\n",
              "      filter: drop-shadow(0px 1px 2px rgba(0, 0, 0, 0.3));\n",
              "      fill: #FFFFFF;\n",
              "    }\n",
              "  </style>\n",
              "\n",
              "    <script>\n",
              "      const buttonEl =\n",
              "        document.querySelector('#df-03eb6b5f-2daa-4478-b5c2-e7b5d6f533ad button.colab-df-convert');\n",
              "      buttonEl.style.display =\n",
              "        google.colab.kernel.accessAllowed ? 'block' : 'none';\n",
              "\n",
              "      async function convertToInteractive(key) {\n",
              "        const element = document.querySelector('#df-03eb6b5f-2daa-4478-b5c2-e7b5d6f533ad');\n",
              "        const dataTable =\n",
              "          await google.colab.kernel.invokeFunction('convertToInteractive',\n",
              "                                                    [key], {});\n",
              "        if (!dataTable) return;\n",
              "\n",
              "        const docLinkHtml = 'Like what you see? Visit the ' +\n",
              "          '<a target=\"_blank\" href=https://colab.research.google.com/notebooks/data_table.ipynb>data table notebook</a>'\n",
              "          + ' to learn more about interactive tables.';\n",
              "        element.innerHTML = '';\n",
              "        dataTable['output_type'] = 'display_data';\n",
              "        await google.colab.output.renderOutput(dataTable, element);\n",
              "        const docLink = document.createElement('div');\n",
              "        docLink.innerHTML = docLinkHtml;\n",
              "        element.appendChild(docLink);\n",
              "      }\n",
              "    </script>\n",
              "  </div>\n",
              "\n",
              "\n",
              "    <div id=\"df-acf60eb5-737c-41a9-87e5-27c8a9bfc088\">\n",
              "      <button class=\"colab-df-quickchart\" onclick=\"quickchart('df-acf60eb5-737c-41a9-87e5-27c8a9bfc088')\"\n",
              "                title=\"Suggest charts\"\n",
              "                style=\"display:none;\">\n",
              "\n",
              "<svg xmlns=\"http://www.w3.org/2000/svg\" height=\"24px\"viewBox=\"0 0 24 24\"\n",
              "     width=\"24px\">\n",
              "    <g>\n",
              "        <path d=\"M19 3H5c-1.1 0-2 .9-2 2v14c0 1.1.9 2 2 2h14c1.1 0 2-.9 2-2V5c0-1.1-.9-2-2-2zM9 17H7v-7h2v7zm4 0h-2V7h2v10zm4 0h-2v-4h2v4z\"/>\n",
              "    </g>\n",
              "</svg>\n",
              "      </button>\n",
              "\n",
              "<style>\n",
              "  .colab-df-quickchart {\n",
              "      --bg-color: #E8F0FE;\n",
              "      --fill-color: #1967D2;\n",
              "      --hover-bg-color: #E2EBFA;\n",
              "      --hover-fill-color: #174EA6;\n",
              "      --disabled-fill-color: #AAA;\n",
              "      --disabled-bg-color: #DDD;\n",
              "  }\n",
              "\n",
              "  [theme=dark] .colab-df-quickchart {\n",
              "      --bg-color: #3B4455;\n",
              "      --fill-color: #D2E3FC;\n",
              "      --hover-bg-color: #434B5C;\n",
              "      --hover-fill-color: #FFFFFF;\n",
              "      --disabled-bg-color: #3B4455;\n",
              "      --disabled-fill-color: #666;\n",
              "  }\n",
              "\n",
              "  .colab-df-quickchart {\n",
              "    background-color: var(--bg-color);\n",
              "    border: none;\n",
              "    border-radius: 50%;\n",
              "    cursor: pointer;\n",
              "    display: none;\n",
              "    fill: var(--fill-color);\n",
              "    height: 32px;\n",
              "    padding: 0;\n",
              "    width: 32px;\n",
              "  }\n",
              "\n",
              "  .colab-df-quickchart:hover {\n",
              "    background-color: var(--hover-bg-color);\n",
              "    box-shadow: 0 1px 2px rgba(60, 64, 67, 0.3), 0 1px 3px 1px rgba(60, 64, 67, 0.15);\n",
              "    fill: var(--button-hover-fill-color);\n",
              "  }\n",
              "\n",
              "  .colab-df-quickchart-complete:disabled,\n",
              "  .colab-df-quickchart-complete:disabled:hover {\n",
              "    background-color: var(--disabled-bg-color);\n",
              "    fill: var(--disabled-fill-color);\n",
              "    box-shadow: none;\n",
              "  }\n",
              "\n",
              "  .colab-df-spinner {\n",
              "    border: 2px solid var(--fill-color);\n",
              "    border-color: transparent;\n",
              "    border-bottom-color: var(--fill-color);\n",
              "    animation:\n",
              "      spin 1s steps(1) infinite;\n",
              "  }\n",
              "\n",
              "  @keyframes spin {\n",
              "    0% {\n",
              "      border-color: transparent;\n",
              "      border-bottom-color: var(--fill-color);\n",
              "      border-left-color: var(--fill-color);\n",
              "    }\n",
              "    20% {\n",
              "      border-color: transparent;\n",
              "      border-left-color: var(--fill-color);\n",
              "      border-top-color: var(--fill-color);\n",
              "    }\n",
              "    30% {\n",
              "      border-color: transparent;\n",
              "      border-left-color: var(--fill-color);\n",
              "      border-top-color: var(--fill-color);\n",
              "      border-right-color: var(--fill-color);\n",
              "    }\n",
              "    40% {\n",
              "      border-color: transparent;\n",
              "      border-right-color: var(--fill-color);\n",
              "      border-top-color: var(--fill-color);\n",
              "    }\n",
              "    60% {\n",
              "      border-color: transparent;\n",
              "      border-right-color: var(--fill-color);\n",
              "    }\n",
              "    80% {\n",
              "      border-color: transparent;\n",
              "      border-right-color: var(--fill-color);\n",
              "      border-bottom-color: var(--fill-color);\n",
              "    }\n",
              "    90% {\n",
              "      border-color: transparent;\n",
              "      border-bottom-color: var(--fill-color);\n",
              "    }\n",
              "  }\n",
              "</style>\n",
              "\n",
              "      <script>\n",
              "        async function quickchart(key) {\n",
              "          const quickchartButtonEl =\n",
              "            document.querySelector('#' + key + ' button');\n",
              "          quickchartButtonEl.disabled = true;  // To prevent multiple clicks.\n",
              "          quickchartButtonEl.classList.add('colab-df-spinner');\n",
              "          try {\n",
              "            const charts = await google.colab.kernel.invokeFunction(\n",
              "                'suggestCharts', [key], {});\n",
              "          } catch (error) {\n",
              "            console.error('Error during call to suggestCharts:', error);\n",
              "          }\n",
              "          quickchartButtonEl.classList.remove('colab-df-spinner');\n",
              "          quickchartButtonEl.classList.add('colab-df-quickchart-complete');\n",
              "        }\n",
              "        (() => {\n",
              "          let quickchartButtonEl =\n",
              "            document.querySelector('#df-acf60eb5-737c-41a9-87e5-27c8a9bfc088 button');\n",
              "          quickchartButtonEl.style.display =\n",
              "            google.colab.kernel.accessAllowed ? 'block' : 'none';\n",
              "        })();\n",
              "      </script>\n",
              "    </div>\n",
              "\n",
              "    </div>\n",
              "  </div>\n"
            ],
            "application/vnd.google.colaboratory.intrinsic+json": {
              "type": "dataframe",
              "variable_name": "df",
              "summary": "{\n  \"name\": \"df\",\n  \"rows\": 891,\n  \"fields\": [\n    {\n      \"column\": \"PassengerId\",\n      \"properties\": {\n        \"dtype\": \"number\",\n        \"std\": 257,\n        \"min\": 1,\n        \"max\": 891,\n        \"num_unique_values\": 891,\n        \"samples\": [\n          710,\n          440,\n          841\n        ],\n        \"semantic_type\": \"\",\n        \"description\": \"\"\n      }\n    },\n    {\n      \"column\": \"Survived\",\n      \"properties\": {\n        \"dtype\": \"number\",\n        \"std\": 0,\n        \"min\": 0,\n        \"max\": 1,\n        \"num_unique_values\": 2,\n        \"samples\": [\n          1,\n          0\n        ],\n        \"semantic_type\": \"\",\n        \"description\": \"\"\n      }\n    },\n    {\n      \"column\": \"Pclass\",\n      \"properties\": {\n        \"dtype\": \"number\",\n        \"std\": 0,\n        \"min\": 1,\n        \"max\": 3,\n        \"num_unique_values\": 3,\n        \"samples\": [\n          3,\n          1\n        ],\n        \"semantic_type\": \"\",\n        \"description\": \"\"\n      }\n    },\n    {\n      \"column\": \"Name\",\n      \"properties\": {\n        \"dtype\": \"string\",\n        \"num_unique_values\": 891,\n        \"samples\": [\n          \"Moubarek, Master. Halim Gonios (\\\"William George\\\")\",\n          \"Kvillner, Mr. Johan Henrik Johannesson\"\n        ],\n        \"semantic_type\": \"\",\n        \"description\": \"\"\n      }\n    },\n    {\n      \"column\": \"Sex\",\n      \"properties\": {\n        \"dtype\": \"category\",\n        \"num_unique_values\": 2,\n        \"samples\": [\n          \"female\",\n          \"male\"\n        ],\n        \"semantic_type\": \"\",\n        \"description\": \"\"\n      }\n    },\n    {\n      \"column\": \"Age\",\n      \"properties\": {\n        \"dtype\": \"number\",\n        \"std\": 14.526497332334044,\n        \"min\": 0.42,\n        \"max\": 80.0,\n        \"num_unique_values\": 88,\n        \"samples\": [\n          0.75,\n          22.0\n        ],\n        \"semantic_type\": \"\",\n        \"description\": \"\"\n      }\n    },\n    {\n      \"column\": \"SibSp\",\n      \"properties\": {\n        \"dtype\": \"number\",\n        \"std\": 1,\n        \"min\": 0,\n        \"max\": 8,\n        \"num_unique_values\": 7,\n        \"samples\": [\n          1,\n          0\n        ],\n        \"semantic_type\": \"\",\n        \"description\": \"\"\n      }\n    },\n    {\n      \"column\": \"Parch\",\n      \"properties\": {\n        \"dtype\": \"number\",\n        \"std\": 0,\n        \"min\": 0,\n        \"max\": 6,\n        \"num_unique_values\": 7,\n        \"samples\": [\n          0,\n          1\n        ],\n        \"semantic_type\": \"\",\n        \"description\": \"\"\n      }\n    },\n    {\n      \"column\": \"Ticket\",\n      \"properties\": {\n        \"dtype\": \"string\",\n        \"num_unique_values\": 681,\n        \"samples\": [\n          \"11774\",\n          \"248740\"\n        ],\n        \"semantic_type\": \"\",\n        \"description\": \"\"\n      }\n    },\n    {\n      \"column\": \"Fare\",\n      \"properties\": {\n        \"dtype\": \"number\",\n        \"std\": 49.693428597180905,\n        \"min\": 0.0,\n        \"max\": 512.3292,\n        \"num_unique_values\": 248,\n        \"samples\": [\n          11.2417,\n          51.8625\n        ],\n        \"semantic_type\": \"\",\n        \"description\": \"\"\n      }\n    },\n    {\n      \"column\": \"Cabin\",\n      \"properties\": {\n        \"dtype\": \"category\",\n        \"num_unique_values\": 147,\n        \"samples\": [\n          \"D45\",\n          \"B49\"\n        ],\n        \"semantic_type\": \"\",\n        \"description\": \"\"\n      }\n    },\n    {\n      \"column\": \"Embarked\",\n      \"properties\": {\n        \"dtype\": \"category\",\n        \"num_unique_values\": 3,\n        \"samples\": [\n          \"S\",\n          \"C\"\n        ],\n        \"semantic_type\": \"\",\n        \"description\": \"\"\n      }\n    }\n  ]\n}"
            }
          },
          "metadata": {},
          "execution_count": 9
        }
      ],
      "execution_count": 9
    },
    {
      "cell_type": "markdown",
      "source": [
        "### PassengerId = ID of Passenger\n",
        "### Survived =  0 = No , 1 = Yes\n",
        "### Pclass = Ticket Class 1=1st ,2=2nd , 3=3rd\n",
        "### SibSp = # of Siblings (Brother/Sister ) / Spouses (Husbend / Wife) on abord the Titanic\n",
        "### Parch =  # of Parents / Children abord the Titanic\n",
        "### Ticket  = Ticket Number\n",
        "### Fare = Price by Passinger\n",
        "### Cabin = Canin Number\n",
        "### Embarked = Port of Embarkation"
      ],
      "metadata": {
        "id": "c3SrXqsAioIs"
      }
    },
    {
      "cell_type": "markdown",
      "source": [
        "# EDA"
      ],
      "metadata": {
        "id": "shvJd2Y0ioIy"
      }
    },
    {
      "cell_type": "markdown",
      "source": [
        "### Let's first check the missing data"
      ],
      "metadata": {
        "id": "bftiRVm1ioIy"
      }
    },
    {
      "cell_type": "code",
      "source": [
        "df.isna().sum()"
      ],
      "metadata": {
        "execution": {
          "iopub.status.busy": "2023-11-26T16:33:42.132379Z",
          "iopub.execute_input": "2023-11-26T16:33:42.133552Z",
          "iopub.status.idle": "2023-11-26T16:33:42.147926Z",
          "shell.execute_reply.started": "2023-11-26T16:33:42.133502Z",
          "shell.execute_reply": "2023-11-26T16:33:42.146583Z"
        },
        "trusted": true,
        "colab": {
          "base_uri": "https://localhost:8080/",
          "height": 460
        },
        "id": "9kFdxc5FioIy",
        "outputId": "a8379021-3862-4c2f-eb37-82c61fdbf775"
      },
      "outputs": [
        {
          "output_type": "execute_result",
          "data": {
            "text/plain": [
              "PassengerId      0\n",
              "Survived         0\n",
              "Pclass           0\n",
              "Name             0\n",
              "Sex              0\n",
              "Age            177\n",
              "SibSp            0\n",
              "Parch            0\n",
              "Ticket           0\n",
              "Fare             0\n",
              "Cabin          687\n",
              "Embarked         2\n",
              "dtype: int64"
            ],
            "text/html": [
              "<div>\n",
              "<style scoped>\n",
              "    .dataframe tbody tr th:only-of-type {\n",
              "        vertical-align: middle;\n",
              "    }\n",
              "\n",
              "    .dataframe tbody tr th {\n",
              "        vertical-align: top;\n",
              "    }\n",
              "\n",
              "    .dataframe thead th {\n",
              "        text-align: right;\n",
              "    }\n",
              "</style>\n",
              "<table border=\"1\" class=\"dataframe\">\n",
              "  <thead>\n",
              "    <tr style=\"text-align: right;\">\n",
              "      <th></th>\n",
              "      <th>0</th>\n",
              "    </tr>\n",
              "  </thead>\n",
              "  <tbody>\n",
              "    <tr>\n",
              "      <th>PassengerId</th>\n",
              "      <td>0</td>\n",
              "    </tr>\n",
              "    <tr>\n",
              "      <th>Survived</th>\n",
              "      <td>0</td>\n",
              "    </tr>\n",
              "    <tr>\n",
              "      <th>Pclass</th>\n",
              "      <td>0</td>\n",
              "    </tr>\n",
              "    <tr>\n",
              "      <th>Name</th>\n",
              "      <td>0</td>\n",
              "    </tr>\n",
              "    <tr>\n",
              "      <th>Sex</th>\n",
              "      <td>0</td>\n",
              "    </tr>\n",
              "    <tr>\n",
              "      <th>Age</th>\n",
              "      <td>177</td>\n",
              "    </tr>\n",
              "    <tr>\n",
              "      <th>SibSp</th>\n",
              "      <td>0</td>\n",
              "    </tr>\n",
              "    <tr>\n",
              "      <th>Parch</th>\n",
              "      <td>0</td>\n",
              "    </tr>\n",
              "    <tr>\n",
              "      <th>Ticket</th>\n",
              "      <td>0</td>\n",
              "    </tr>\n",
              "    <tr>\n",
              "      <th>Fare</th>\n",
              "      <td>0</td>\n",
              "    </tr>\n",
              "    <tr>\n",
              "      <th>Cabin</th>\n",
              "      <td>687</td>\n",
              "    </tr>\n",
              "    <tr>\n",
              "      <th>Embarked</th>\n",
              "      <td>2</td>\n",
              "    </tr>\n",
              "  </tbody>\n",
              "</table>\n",
              "</div><br><label><b>dtype:</b> int64</label>"
            ]
          },
          "metadata": {},
          "execution_count": 10
        }
      ],
      "execution_count": 10
    },
    {
      "cell_type": "markdown",
      "source": [
        "### Check the numerical data"
      ],
      "metadata": {
        "id": "BwGgBVEgioIz"
      }
    },
    {
      "cell_type": "code",
      "source": [
        "df.describe()"
      ],
      "metadata": {
        "execution": {
          "iopub.status.busy": "2023-11-26T16:33:42.642827Z",
          "iopub.execute_input": "2023-11-26T16:33:42.644127Z",
          "iopub.status.idle": "2023-11-26T16:33:42.695356Z",
          "shell.execute_reply.started": "2023-11-26T16:33:42.644058Z",
          "shell.execute_reply": "2023-11-26T16:33:42.694302Z"
        },
        "trusted": true,
        "colab": {
          "base_uri": "https://localhost:8080/",
          "height": 300
        },
        "id": "xCMYNhp7ioIz",
        "outputId": "24e428e5-304a-44c2-9660-30adfff9a9b3"
      },
      "outputs": [
        {
          "output_type": "execute_result",
          "data": {
            "text/plain": [
              "       PassengerId    Survived      Pclass         Age       SibSp  \\\n",
              "count   891.000000  891.000000  891.000000  714.000000  891.000000   \n",
              "mean    446.000000    0.383838    2.308642   29.699118    0.523008   \n",
              "std     257.353842    0.486592    0.836071   14.526497    1.102743   \n",
              "min       1.000000    0.000000    1.000000    0.420000    0.000000   \n",
              "25%     223.500000    0.000000    2.000000   20.125000    0.000000   \n",
              "50%     446.000000    0.000000    3.000000   28.000000    0.000000   \n",
              "75%     668.500000    1.000000    3.000000   38.000000    1.000000   \n",
              "max     891.000000    1.000000    3.000000   80.000000    8.000000   \n",
              "\n",
              "            Parch        Fare  \n",
              "count  891.000000  891.000000  \n",
              "mean     0.381594   32.204208  \n",
              "std      0.806057   49.693429  \n",
              "min      0.000000    0.000000  \n",
              "25%      0.000000    7.910400  \n",
              "50%      0.000000   14.454200  \n",
              "75%      0.000000   31.000000  \n",
              "max      6.000000  512.329200  "
            ],
            "text/html": [
              "\n",
              "  <div id=\"df-c20b1599-2d1d-416d-9aca-b01d651a4612\" class=\"colab-df-container\">\n",
              "    <div>\n",
              "<style scoped>\n",
              "    .dataframe tbody tr th:only-of-type {\n",
              "        vertical-align: middle;\n",
              "    }\n",
              "\n",
              "    .dataframe tbody tr th {\n",
              "        vertical-align: top;\n",
              "    }\n",
              "\n",
              "    .dataframe thead th {\n",
              "        text-align: right;\n",
              "    }\n",
              "</style>\n",
              "<table border=\"1\" class=\"dataframe\">\n",
              "  <thead>\n",
              "    <tr style=\"text-align: right;\">\n",
              "      <th></th>\n",
              "      <th>PassengerId</th>\n",
              "      <th>Survived</th>\n",
              "      <th>Pclass</th>\n",
              "      <th>Age</th>\n",
              "      <th>SibSp</th>\n",
              "      <th>Parch</th>\n",
              "      <th>Fare</th>\n",
              "    </tr>\n",
              "  </thead>\n",
              "  <tbody>\n",
              "    <tr>\n",
              "      <th>count</th>\n",
              "      <td>891.000000</td>\n",
              "      <td>891.000000</td>\n",
              "      <td>891.000000</td>\n",
              "      <td>714.000000</td>\n",
              "      <td>891.000000</td>\n",
              "      <td>891.000000</td>\n",
              "      <td>891.000000</td>\n",
              "    </tr>\n",
              "    <tr>\n",
              "      <th>mean</th>\n",
              "      <td>446.000000</td>\n",
              "      <td>0.383838</td>\n",
              "      <td>2.308642</td>\n",
              "      <td>29.699118</td>\n",
              "      <td>0.523008</td>\n",
              "      <td>0.381594</td>\n",
              "      <td>32.204208</td>\n",
              "    </tr>\n",
              "    <tr>\n",
              "      <th>std</th>\n",
              "      <td>257.353842</td>\n",
              "      <td>0.486592</td>\n",
              "      <td>0.836071</td>\n",
              "      <td>14.526497</td>\n",
              "      <td>1.102743</td>\n",
              "      <td>0.806057</td>\n",
              "      <td>49.693429</td>\n",
              "    </tr>\n",
              "    <tr>\n",
              "      <th>min</th>\n",
              "      <td>1.000000</td>\n",
              "      <td>0.000000</td>\n",
              "      <td>1.000000</td>\n",
              "      <td>0.420000</td>\n",
              "      <td>0.000000</td>\n",
              "      <td>0.000000</td>\n",
              "      <td>0.000000</td>\n",
              "    </tr>\n",
              "    <tr>\n",
              "      <th>25%</th>\n",
              "      <td>223.500000</td>\n",
              "      <td>0.000000</td>\n",
              "      <td>2.000000</td>\n",
              "      <td>20.125000</td>\n",
              "      <td>0.000000</td>\n",
              "      <td>0.000000</td>\n",
              "      <td>7.910400</td>\n",
              "    </tr>\n",
              "    <tr>\n",
              "      <th>50%</th>\n",
              "      <td>446.000000</td>\n",
              "      <td>0.000000</td>\n",
              "      <td>3.000000</td>\n",
              "      <td>28.000000</td>\n",
              "      <td>0.000000</td>\n",
              "      <td>0.000000</td>\n",
              "      <td>14.454200</td>\n",
              "    </tr>\n",
              "    <tr>\n",
              "      <th>75%</th>\n",
              "      <td>668.500000</td>\n",
              "      <td>1.000000</td>\n",
              "      <td>3.000000</td>\n",
              "      <td>38.000000</td>\n",
              "      <td>1.000000</td>\n",
              "      <td>0.000000</td>\n",
              "      <td>31.000000</td>\n",
              "    </tr>\n",
              "    <tr>\n",
              "      <th>max</th>\n",
              "      <td>891.000000</td>\n",
              "      <td>1.000000</td>\n",
              "      <td>3.000000</td>\n",
              "      <td>80.000000</td>\n",
              "      <td>8.000000</td>\n",
              "      <td>6.000000</td>\n",
              "      <td>512.329200</td>\n",
              "    </tr>\n",
              "  </tbody>\n",
              "</table>\n",
              "</div>\n",
              "    <div class=\"colab-df-buttons\">\n",
              "\n",
              "  <div class=\"colab-df-container\">\n",
              "    <button class=\"colab-df-convert\" onclick=\"convertToInteractive('df-c20b1599-2d1d-416d-9aca-b01d651a4612')\"\n",
              "            title=\"Convert this dataframe to an interactive table.\"\n",
              "            style=\"display:none;\">\n",
              "\n",
              "  <svg xmlns=\"http://www.w3.org/2000/svg\" height=\"24px\" viewBox=\"0 -960 960 960\">\n",
              "    <path d=\"M120-120v-720h720v720H120Zm60-500h600v-160H180v160Zm220 220h160v-160H400v160Zm0 220h160v-160H400v160ZM180-400h160v-160H180v160Zm440 0h160v-160H620v160ZM180-180h160v-160H180v160Zm440 0h160v-160H620v160Z\"/>\n",
              "  </svg>\n",
              "    </button>\n",
              "\n",
              "  <style>\n",
              "    .colab-df-container {\n",
              "      display:flex;\n",
              "      gap: 12px;\n",
              "    }\n",
              "\n",
              "    .colab-df-convert {\n",
              "      background-color: #E8F0FE;\n",
              "      border: none;\n",
              "      border-radius: 50%;\n",
              "      cursor: pointer;\n",
              "      display: none;\n",
              "      fill: #1967D2;\n",
              "      height: 32px;\n",
              "      padding: 0 0 0 0;\n",
              "      width: 32px;\n",
              "    }\n",
              "\n",
              "    .colab-df-convert:hover {\n",
              "      background-color: #E2EBFA;\n",
              "      box-shadow: 0px 1px 2px rgba(60, 64, 67, 0.3), 0px 1px 3px 1px rgba(60, 64, 67, 0.15);\n",
              "      fill: #174EA6;\n",
              "    }\n",
              "\n",
              "    .colab-df-buttons div {\n",
              "      margin-bottom: 4px;\n",
              "    }\n",
              "\n",
              "    [theme=dark] .colab-df-convert {\n",
              "      background-color: #3B4455;\n",
              "      fill: #D2E3FC;\n",
              "    }\n",
              "\n",
              "    [theme=dark] .colab-df-convert:hover {\n",
              "      background-color: #434B5C;\n",
              "      box-shadow: 0px 1px 3px 1px rgba(0, 0, 0, 0.15);\n",
              "      filter: drop-shadow(0px 1px 2px rgba(0, 0, 0, 0.3));\n",
              "      fill: #FFFFFF;\n",
              "    }\n",
              "  </style>\n",
              "\n",
              "    <script>\n",
              "      const buttonEl =\n",
              "        document.querySelector('#df-c20b1599-2d1d-416d-9aca-b01d651a4612 button.colab-df-convert');\n",
              "      buttonEl.style.display =\n",
              "        google.colab.kernel.accessAllowed ? 'block' : 'none';\n",
              "\n",
              "      async function convertToInteractive(key) {\n",
              "        const element = document.querySelector('#df-c20b1599-2d1d-416d-9aca-b01d651a4612');\n",
              "        const dataTable =\n",
              "          await google.colab.kernel.invokeFunction('convertToInteractive',\n",
              "                                                    [key], {});\n",
              "        if (!dataTable) return;\n",
              "\n",
              "        const docLinkHtml = 'Like what you see? Visit the ' +\n",
              "          '<a target=\"_blank\" href=https://colab.research.google.com/notebooks/data_table.ipynb>data table notebook</a>'\n",
              "          + ' to learn more about interactive tables.';\n",
              "        element.innerHTML = '';\n",
              "        dataTable['output_type'] = 'display_data';\n",
              "        await google.colab.output.renderOutput(dataTable, element);\n",
              "        const docLink = document.createElement('div');\n",
              "        docLink.innerHTML = docLinkHtml;\n",
              "        element.appendChild(docLink);\n",
              "      }\n",
              "    </script>\n",
              "  </div>\n",
              "\n",
              "\n",
              "    <div id=\"df-51b255c6-ecc7-41f2-86b2-3c82b38a4587\">\n",
              "      <button class=\"colab-df-quickchart\" onclick=\"quickchart('df-51b255c6-ecc7-41f2-86b2-3c82b38a4587')\"\n",
              "                title=\"Suggest charts\"\n",
              "                style=\"display:none;\">\n",
              "\n",
              "<svg xmlns=\"http://www.w3.org/2000/svg\" height=\"24px\"viewBox=\"0 0 24 24\"\n",
              "     width=\"24px\">\n",
              "    <g>\n",
              "        <path d=\"M19 3H5c-1.1 0-2 .9-2 2v14c0 1.1.9 2 2 2h14c1.1 0 2-.9 2-2V5c0-1.1-.9-2-2-2zM9 17H7v-7h2v7zm4 0h-2V7h2v10zm4 0h-2v-4h2v4z\"/>\n",
              "    </g>\n",
              "</svg>\n",
              "      </button>\n",
              "\n",
              "<style>\n",
              "  .colab-df-quickchart {\n",
              "      --bg-color: #E8F0FE;\n",
              "      --fill-color: #1967D2;\n",
              "      --hover-bg-color: #E2EBFA;\n",
              "      --hover-fill-color: #174EA6;\n",
              "      --disabled-fill-color: #AAA;\n",
              "      --disabled-bg-color: #DDD;\n",
              "  }\n",
              "\n",
              "  [theme=dark] .colab-df-quickchart {\n",
              "      --bg-color: #3B4455;\n",
              "      --fill-color: #D2E3FC;\n",
              "      --hover-bg-color: #434B5C;\n",
              "      --hover-fill-color: #FFFFFF;\n",
              "      --disabled-bg-color: #3B4455;\n",
              "      --disabled-fill-color: #666;\n",
              "  }\n",
              "\n",
              "  .colab-df-quickchart {\n",
              "    background-color: var(--bg-color);\n",
              "    border: none;\n",
              "    border-radius: 50%;\n",
              "    cursor: pointer;\n",
              "    display: none;\n",
              "    fill: var(--fill-color);\n",
              "    height: 32px;\n",
              "    padding: 0;\n",
              "    width: 32px;\n",
              "  }\n",
              "\n",
              "  .colab-df-quickchart:hover {\n",
              "    background-color: var(--hover-bg-color);\n",
              "    box-shadow: 0 1px 2px rgba(60, 64, 67, 0.3), 0 1px 3px 1px rgba(60, 64, 67, 0.15);\n",
              "    fill: var(--button-hover-fill-color);\n",
              "  }\n",
              "\n",
              "  .colab-df-quickchart-complete:disabled,\n",
              "  .colab-df-quickchart-complete:disabled:hover {\n",
              "    background-color: var(--disabled-bg-color);\n",
              "    fill: var(--disabled-fill-color);\n",
              "    box-shadow: none;\n",
              "  }\n",
              "\n",
              "  .colab-df-spinner {\n",
              "    border: 2px solid var(--fill-color);\n",
              "    border-color: transparent;\n",
              "    border-bottom-color: var(--fill-color);\n",
              "    animation:\n",
              "      spin 1s steps(1) infinite;\n",
              "  }\n",
              "\n",
              "  @keyframes spin {\n",
              "    0% {\n",
              "      border-color: transparent;\n",
              "      border-bottom-color: var(--fill-color);\n",
              "      border-left-color: var(--fill-color);\n",
              "    }\n",
              "    20% {\n",
              "      border-color: transparent;\n",
              "      border-left-color: var(--fill-color);\n",
              "      border-top-color: var(--fill-color);\n",
              "    }\n",
              "    30% {\n",
              "      border-color: transparent;\n",
              "      border-left-color: var(--fill-color);\n",
              "      border-top-color: var(--fill-color);\n",
              "      border-right-color: var(--fill-color);\n",
              "    }\n",
              "    40% {\n",
              "      border-color: transparent;\n",
              "      border-right-color: var(--fill-color);\n",
              "      border-top-color: var(--fill-color);\n",
              "    }\n",
              "    60% {\n",
              "      border-color: transparent;\n",
              "      border-right-color: var(--fill-color);\n",
              "    }\n",
              "    80% {\n",
              "      border-color: transparent;\n",
              "      border-right-color: var(--fill-color);\n",
              "      border-bottom-color: var(--fill-color);\n",
              "    }\n",
              "    90% {\n",
              "      border-color: transparent;\n",
              "      border-bottom-color: var(--fill-color);\n",
              "    }\n",
              "  }\n",
              "</style>\n",
              "\n",
              "      <script>\n",
              "        async function quickchart(key) {\n",
              "          const quickchartButtonEl =\n",
              "            document.querySelector('#' + key + ' button');\n",
              "          quickchartButtonEl.disabled = true;  // To prevent multiple clicks.\n",
              "          quickchartButtonEl.classList.add('colab-df-spinner');\n",
              "          try {\n",
              "            const charts = await google.colab.kernel.invokeFunction(\n",
              "                'suggestCharts', [key], {});\n",
              "          } catch (error) {\n",
              "            console.error('Error during call to suggestCharts:', error);\n",
              "          }\n",
              "          quickchartButtonEl.classList.remove('colab-df-spinner');\n",
              "          quickchartButtonEl.classList.add('colab-df-quickchart-complete');\n",
              "        }\n",
              "        (() => {\n",
              "          let quickchartButtonEl =\n",
              "            document.querySelector('#df-51b255c6-ecc7-41f2-86b2-3c82b38a4587 button');\n",
              "          quickchartButtonEl.style.display =\n",
              "            google.colab.kernel.accessAllowed ? 'block' : 'none';\n",
              "        })();\n",
              "      </script>\n",
              "    </div>\n",
              "\n",
              "    </div>\n",
              "  </div>\n"
            ],
            "application/vnd.google.colaboratory.intrinsic+json": {
              "type": "dataframe",
              "summary": "{\n  \"name\": \"df\",\n  \"rows\": 8,\n  \"fields\": [\n    {\n      \"column\": \"PassengerId\",\n      \"properties\": {\n        \"dtype\": \"number\",\n        \"std\": 320.8159711429856,\n        \"min\": 1.0,\n        \"max\": 891.0,\n        \"num_unique_values\": 6,\n        \"samples\": [\n          891.0,\n          446.0,\n          668.5\n        ],\n        \"semantic_type\": \"\",\n        \"description\": \"\"\n      }\n    },\n    {\n      \"column\": \"Survived\",\n      \"properties\": {\n        \"dtype\": \"number\",\n        \"std\": 314.8713661874558,\n        \"min\": 0.0,\n        \"max\": 891.0,\n        \"num_unique_values\": 5,\n        \"samples\": [\n          0.3838383838383838,\n          1.0,\n          0.4865924542648585\n        ],\n        \"semantic_type\": \"\",\n        \"description\": \"\"\n      }\n    },\n    {\n      \"column\": \"Pclass\",\n      \"properties\": {\n        \"dtype\": \"number\",\n        \"std\": 314.2523437079693,\n        \"min\": 0.8360712409770513,\n        \"max\": 891.0,\n        \"num_unique_values\": 6,\n        \"samples\": [\n          891.0,\n          2.308641975308642,\n          3.0\n        ],\n        \"semantic_type\": \"\",\n        \"description\": \"\"\n      }\n    },\n    {\n      \"column\": \"Age\",\n      \"properties\": {\n        \"dtype\": \"number\",\n        \"std\": 242.9056731818781,\n        \"min\": 0.42,\n        \"max\": 714.0,\n        \"num_unique_values\": 8,\n        \"samples\": [\n          29.69911764705882,\n          28.0,\n          714.0\n        ],\n        \"semantic_type\": \"\",\n        \"description\": \"\"\n      }\n    },\n    {\n      \"column\": \"SibSp\",\n      \"properties\": {\n        \"dtype\": \"number\",\n        \"std\": 314.4908277465442,\n        \"min\": 0.0,\n        \"max\": 891.0,\n        \"num_unique_values\": 6,\n        \"samples\": [\n          891.0,\n          0.5230078563411896,\n          8.0\n        ],\n        \"semantic_type\": \"\",\n        \"description\": \"\"\n      }\n    },\n    {\n      \"column\": \"Parch\",\n      \"properties\": {\n        \"dtype\": \"number\",\n        \"std\": 314.65971717879,\n        \"min\": 0.0,\n        \"max\": 891.0,\n        \"num_unique_values\": 5,\n        \"samples\": [\n          0.38159371492704824,\n          6.0,\n          0.8060572211299559\n        ],\n        \"semantic_type\": \"\",\n        \"description\": \"\"\n      }\n    },\n    {\n      \"column\": \"Fare\",\n      \"properties\": {\n        \"dtype\": \"number\",\n        \"std\": 330.6256632228577,\n        \"min\": 0.0,\n        \"max\": 891.0,\n        \"num_unique_values\": 8,\n        \"samples\": [\n          32.204207968574636,\n          14.4542,\n          891.0\n        ],\n        \"semantic_type\": \"\",\n        \"description\": \"\"\n      }\n    }\n  ]\n}"
            }
          },
          "metadata": {},
          "execution_count": 11
        }
      ],
      "execution_count": 11
    },
    {
      "cell_type": "markdown",
      "source": [
        "### What about the categorical data"
      ],
      "metadata": {
        "id": "tHFQHJSPioIz"
      }
    },
    {
      "cell_type": "code",
      "source": [
        "df.describe(include='O')"
      ],
      "metadata": {
        "execution": {
          "iopub.status.busy": "2023-11-26T16:33:43.163606Z",
          "iopub.execute_input": "2023-11-26T16:33:43.164348Z",
          "iopub.status.idle": "2023-11-26T16:33:43.191893Z",
          "shell.execute_reply.started": "2023-11-26T16:33:43.164305Z",
          "shell.execute_reply": "2023-11-26T16:33:43.190876Z"
        },
        "trusted": true,
        "id": "CycPSPPhioIz"
      },
      "outputs": [],
      "execution_count": null
    },
    {
      "cell_type": "markdown",
      "source": [
        "### Can you find the number of females?"
      ],
      "metadata": {
        "id": "SpVhWkG3ioIz"
      }
    },
    {
      "cell_type": "code",
      "source": [
        "df['Sex'].value_counts(normalize=True)"
      ],
      "metadata": {
        "execution": {
          "iopub.status.busy": "2023-11-26T16:33:44.231088Z",
          "iopub.execute_input": "2023-11-26T16:33:44.231544Z",
          "iopub.status.idle": "2023-11-26T16:33:44.241366Z",
          "shell.execute_reply.started": "2023-11-26T16:33:44.231511Z",
          "shell.execute_reply": "2023-11-26T16:33:44.239997Z"
        },
        "trusted": true,
        "id": "q59rB5g3ioIz"
      },
      "outputs": [],
      "execution_count": null
    },
    {
      "cell_type": "markdown",
      "source": [
        "### Use some plots"
      ],
      "metadata": {
        "id": "YzHORi2TioI0"
      }
    },
    {
      "cell_type": "code",
      "source": [
        "import matplotlib.pyplot as plt\n",
        "import seaborn as sns"
      ],
      "metadata": {
        "execution": {
          "iopub.status.busy": "2023-11-26T16:33:45.176479Z",
          "iopub.execute_input": "2023-11-26T16:33:45.17688Z",
          "iopub.status.idle": "2023-11-26T16:33:45.182171Z",
          "shell.execute_reply.started": "2023-11-26T16:33:45.176848Z",
          "shell.execute_reply": "2023-11-26T16:33:45.180804Z"
        },
        "trusted": true,
        "id": "Q_QQca9WioI0"
      },
      "outputs": [],
      "execution_count": null
    },
    {
      "cell_type": "code",
      "source": [
        "plt.figure(figsize=(10,5))\n",
        "sns.countplot(data=df, x='Sex')\n",
        "plt.title('Number of males and females');"
      ],
      "metadata": {
        "execution": {
          "iopub.status.busy": "2023-11-26T16:33:45.692485Z",
          "iopub.execute_input": "2023-11-26T16:33:45.692885Z",
          "iopub.status.idle": "2023-11-26T16:33:45.897562Z",
          "shell.execute_reply.started": "2023-11-26T16:33:45.692851Z",
          "shell.execute_reply": "2023-11-26T16:33:45.896391Z"
        },
        "trusted": true,
        "id": "3wIPAsA5ioI0"
      },
      "outputs": [],
      "execution_count": null
    },
    {
      "cell_type": "markdown",
      "source": [
        "### The older person on the titanic"
      ],
      "metadata": {
        "id": "qayXffbYioI0"
      }
    },
    {
      "cell_type": "code",
      "source": [
        "df['Age'].max()"
      ],
      "metadata": {
        "execution": {
          "iopub.status.busy": "2023-11-26T16:33:48.0973Z",
          "iopub.execute_input": "2023-11-26T16:33:48.097732Z",
          "iopub.status.idle": "2023-11-26T16:33:48.105884Z",
          "shell.execute_reply.started": "2023-11-26T16:33:48.097698Z",
          "shell.execute_reply": "2023-11-26T16:33:48.104369Z"
        },
        "trusted": true,
        "id": "i4Kld38iioI0"
      },
      "outputs": [],
      "execution_count": null
    },
    {
      "cell_type": "code",
      "source": [
        "df[df['Age'] == df['Age'].max()]"
      ],
      "metadata": {
        "execution": {
          "iopub.status.busy": "2023-11-26T16:33:48.820105Z",
          "iopub.execute_input": "2023-11-26T16:33:48.820616Z",
          "iopub.status.idle": "2023-11-26T16:33:48.840153Z",
          "shell.execute_reply.started": "2023-11-26T16:33:48.820579Z",
          "shell.execute_reply": "2023-11-26T16:33:48.838839Z"
        },
        "trusted": true,
        "id": "5W8Ei5csioI0"
      },
      "outputs": [],
      "execution_count": null
    },
    {
      "cell_type": "markdown",
      "source": [
        "### What about the youngest?"
      ],
      "metadata": {
        "id": "KR7gBtrKioI0"
      }
    },
    {
      "cell_type": "code",
      "source": [
        "df['Age'].min()"
      ],
      "metadata": {
        "execution": {
          "iopub.status.busy": "2023-11-26T16:37:36.323702Z",
          "iopub.execute_input": "2023-11-26T16:37:36.324288Z",
          "iopub.status.idle": "2023-11-26T16:37:36.334112Z",
          "shell.execute_reply.started": "2023-11-26T16:37:36.324244Z",
          "shell.execute_reply": "2023-11-26T16:37:36.332672Z"
        },
        "trusted": true,
        "id": "LhyQl7BWioI0"
      },
      "outputs": [],
      "execution_count": null
    },
    {
      "cell_type": "code",
      "source": [
        "(df['Age'] < 1).sum()"
      ],
      "metadata": {
        "execution": {
          "iopub.status.busy": "2023-11-26T16:37:49.244765Z",
          "iopub.execute_input": "2023-11-26T16:37:49.245237Z",
          "iopub.status.idle": "2023-11-26T16:37:49.253694Z",
          "shell.execute_reply.started": "2023-11-26T16:37:49.245197Z",
          "shell.execute_reply": "2023-11-26T16:37:49.252641Z"
        },
        "trusted": true,
        "id": "gQk1lMLLioI0"
      },
      "outputs": [],
      "execution_count": null
    },
    {
      "cell_type": "code",
      "source": [
        "df[df['Age'] < 1]"
      ],
      "metadata": {
        "execution": {
          "iopub.status.busy": "2023-02-16T11:10:18.062525Z",
          "iopub.execute_input": "2023-02-16T11:10:18.062992Z",
          "iopub.status.idle": "2023-02-16T11:10:18.083389Z",
          "shell.execute_reply.started": "2023-02-16T11:10:18.062953Z",
          "shell.execute_reply": "2023-02-16T11:10:18.082309Z"
        },
        "trusted": true,
        "id": "B61f4teYioI0"
      },
      "outputs": [],
      "execution_count": null
    },
    {
      "cell_type": "markdown",
      "source": [
        "### Check the age distribution"
      ],
      "metadata": {
        "id": "FtjE7cFeioI0"
      }
    },
    {
      "cell_type": "code",
      "source": [
        "sns.displot(data=df, x='Age', kde=True, aspect=2.0)\n",
        "plt.title('Age Distribution');"
      ],
      "metadata": {
        "execution": {
          "iopub.status.busy": "2023-02-16T11:14:22.665575Z",
          "iopub.execute_input": "2023-02-16T11:14:22.666014Z",
          "iopub.status.idle": "2023-02-16T11:14:23.037017Z",
          "shell.execute_reply.started": "2023-02-16T11:14:22.66598Z",
          "shell.execute_reply": "2023-02-16T11:14:23.036075Z"
        },
        "trusted": true,
        "id": "dWiJhPUEioI0"
      },
      "outputs": [],
      "execution_count": null
    },
    {
      "cell_type": "markdown",
      "source": [
        "### Age distribution for both males and females"
      ],
      "metadata": {
        "id": "0rYQzu9oioI0"
      }
    },
    {
      "cell_type": "code",
      "source": [
        "sns.displot(data=df, x='Age', hue='Sex', aspect=2.0)\n",
        "plt.title('Age Distribution');"
      ],
      "metadata": {
        "execution": {
          "iopub.status.busy": "2023-02-16T11:16:17.295351Z",
          "iopub.execute_input": "2023-02-16T11:16:17.296345Z",
          "iopub.status.idle": "2023-02-16T11:16:17.814527Z",
          "shell.execute_reply.started": "2023-02-16T11:16:17.296303Z",
          "shell.execute_reply": "2023-02-16T11:16:17.813321Z"
        },
        "trusted": true,
        "id": "17hldYbiioI0"
      },
      "outputs": [],
      "execution_count": null
    },
    {
      "cell_type": "markdown",
      "source": [
        "### What do you think about the gender of the people who survived the most?"
      ],
      "metadata": {
        "id": "bBG8pRqNioI1"
      }
    },
    {
      "cell_type": "code",
      "source": [
        "df.groupby(['Survived'])['Sex'].value_counts()"
      ],
      "metadata": {
        "execution": {
          "iopub.status.busy": "2023-02-16T11:18:49.033148Z",
          "iopub.execute_input": "2023-02-16T11:18:49.033681Z",
          "iopub.status.idle": "2023-02-16T11:18:49.046315Z",
          "shell.execute_reply.started": "2023-02-16T11:18:49.03363Z",
          "shell.execute_reply": "2023-02-16T11:18:49.045244Z"
        },
        "trusted": true,
        "id": "JuSXWeulioI1"
      },
      "outputs": [],
      "execution_count": null
    },
    {
      "cell_type": "markdown",
      "source": [
        "### Can you change these numbers to ratio?"
      ],
      "metadata": {
        "id": "cmRezF7nioI1"
      }
    },
    {
      "cell_type": "code",
      "source": [
        "df.groupby(['Survived'])['Sex'].value_counts(normalize=True)"
      ],
      "metadata": {
        "execution": {
          "iopub.status.busy": "2023-02-16T11:20:23.582332Z",
          "iopub.execute_input": "2023-02-16T11:20:23.5828Z",
          "iopub.status.idle": "2023-02-16T11:20:23.595792Z",
          "shell.execute_reply.started": "2023-02-16T11:20:23.582752Z",
          "shell.execute_reply": "2023-02-16T11:20:23.594317Z"
        },
        "trusted": true,
        "id": "D1LkfTwZioI1"
      },
      "outputs": [],
      "execution_count": null
    },
    {
      "cell_type": "code",
      "source": [
        "df.groupby(['Sex'])['Survived'].value_counts(normalize=True)"
      ],
      "metadata": {
        "execution": {
          "iopub.status.busy": "2023-02-16T11:21:14.34603Z",
          "iopub.execute_input": "2023-02-16T11:21:14.346949Z",
          "iopub.status.idle": "2023-02-16T11:21:14.357084Z",
          "shell.execute_reply.started": "2023-02-16T11:21:14.346903Z",
          "shell.execute_reply": "2023-02-16T11:21:14.356099Z"
        },
        "trusted": true,
        "id": "c5H8-l4BioI1"
      },
      "outputs": [],
      "execution_count": null
    },
    {
      "cell_type": "markdown",
      "source": [
        "### Let's plot it"
      ],
      "metadata": {
        "id": "U3-ooebaioI1"
      }
    },
    {
      "cell_type": "code",
      "source": [
        "plt.figure(figsize=(10,5))\n",
        "sns.countplot(data=df, x='Sex', hue='Survived')"
      ],
      "metadata": {
        "execution": {
          "iopub.status.busy": "2023-02-16T11:22:45.957431Z",
          "iopub.execute_input": "2023-02-16T11:22:45.957892Z",
          "iopub.status.idle": "2023-02-16T11:22:46.145623Z",
          "shell.execute_reply.started": "2023-02-16T11:22:45.957857Z",
          "shell.execute_reply": "2023-02-16T11:22:46.144242Z"
        },
        "trusted": true,
        "id": "fGbPDUsKioI1"
      },
      "outputs": [],
      "execution_count": null
    },
    {
      "cell_type": "markdown",
      "source": [
        "# What about the number of people in each family"
      ],
      "metadata": {
        "id": "8GTm2uaTioI1"
      }
    },
    {
      "cell_type": "code",
      "source": [
        "df['Number of family'] = df['SibSp'] + df['Parch'] + 1"
      ],
      "metadata": {
        "execution": {
          "iopub.status.busy": "2023-02-16T11:24:05.417308Z",
          "iopub.execute_input": "2023-02-16T11:24:05.417791Z",
          "iopub.status.idle": "2023-02-16T11:24:05.425277Z",
          "shell.execute_reply.started": "2023-02-16T11:24:05.417751Z",
          "shell.execute_reply": "2023-02-16T11:24:05.424249Z"
        },
        "trusted": true,
        "id": "9ppp7ARNioI1"
      },
      "outputs": [],
      "execution_count": null
    },
    {
      "cell_type": "code",
      "source": [
        "plt.figure(figsize=(15,5))\n",
        "sns.countplot(data=df, x='Number of family');"
      ],
      "metadata": {
        "execution": {
          "iopub.status.busy": "2023-02-16T11:25:25.281918Z",
          "iopub.execute_input": "2023-02-16T11:25:25.282344Z",
          "iopub.status.idle": "2023-02-16T11:25:25.496829Z",
          "shell.execute_reply.started": "2023-02-16T11:25:25.282311Z",
          "shell.execute_reply": "2023-02-16T11:25:25.495708Z"
        },
        "trusted": true,
        "id": "517nv5lOioI1"
      },
      "outputs": [],
      "execution_count": null
    },
    {
      "cell_type": "code",
      "source": [
        "plt.figure(figsize=(15,5))\n",
        "sns.countplot(data=df, x='Number of family', hue='Survived');"
      ],
      "metadata": {
        "execution": {
          "iopub.status.busy": "2023-02-16T11:26:01.56381Z",
          "iopub.execute_input": "2023-02-16T11:26:01.564852Z",
          "iopub.status.idle": "2023-02-16T11:26:01.83031Z",
          "shell.execute_reply.started": "2023-02-16T11:26:01.56481Z",
          "shell.execute_reply": "2023-02-16T11:26:01.829523Z"
        },
        "trusted": true,
        "id": "282z81fDioI4"
      },
      "outputs": [],
      "execution_count": null
    },
    {
      "cell_type": "markdown",
      "source": [
        "# Pclass"
      ],
      "metadata": {
        "id": "aORs6Jl7ioI5"
      }
    },
    {
      "cell_type": "code",
      "source": [
        "plt.figure(figsize=(15,5))\n",
        "sns.countplot(data=df, x='Pclass', hue='Survived');"
      ],
      "metadata": {
        "execution": {
          "iopub.status.busy": "2023-02-16T11:29:20.942375Z",
          "iopub.execute_input": "2023-02-16T11:29:20.942868Z",
          "iopub.status.idle": "2023-02-16T11:29:21.151628Z",
          "shell.execute_reply.started": "2023-02-16T11:29:20.942833Z",
          "shell.execute_reply": "2023-02-16T11:29:21.150584Z"
        },
        "trusted": true,
        "id": "6KT7JbE9ioI5"
      },
      "outputs": [],
      "execution_count": null
    },
    {
      "cell_type": "markdown",
      "source": [
        "# Fare"
      ],
      "metadata": {
        "id": "UASbaCC2ioI5"
      }
    },
    {
      "cell_type": "code",
      "source": [
        "df['Fare'].agg(['max', 'min'])"
      ],
      "metadata": {
        "execution": {
          "iopub.status.busy": "2023-02-16T11:30:21.13166Z",
          "iopub.execute_input": "2023-02-16T11:30:21.132447Z",
          "iopub.status.idle": "2023-02-16T11:30:21.142477Z",
          "shell.execute_reply.started": "2023-02-16T11:30:21.1324Z",
          "shell.execute_reply": "2023-02-16T11:30:21.141229Z"
        },
        "trusted": true,
        "id": "Uh0aN6IOioI5"
      },
      "outputs": [],
      "execution_count": null
    },
    {
      "cell_type": "code",
      "source": [
        "df['cat_fare'] = pd.cut(df['Fare'], bins=[0, 8, 14, 30, 513], labels=[0, 1, 2, 3])"
      ],
      "metadata": {
        "execution": {
          "iopub.status.busy": "2023-02-16T11:31:29.34499Z",
          "iopub.execute_input": "2023-02-16T11:31:29.345929Z",
          "iopub.status.idle": "2023-02-16T11:31:29.354368Z",
          "shell.execute_reply.started": "2023-02-16T11:31:29.345887Z",
          "shell.execute_reply": "2023-02-16T11:31:29.353226Z"
        },
        "trusted": true,
        "id": "v7yZYDTmioI5"
      },
      "outputs": [],
      "execution_count": null
    },
    {
      "cell_type": "code",
      "source": [
        "sns.catplot(data=df, x='cat_fare',y='Survived',hue='Sex',kind='point');"
      ],
      "metadata": {
        "execution": {
          "iopub.status.busy": "2023-02-16T11:33:15.79935Z",
          "iopub.execute_input": "2023-02-16T11:33:15.799824Z",
          "iopub.status.idle": "2023-02-16T11:33:16.358394Z",
          "shell.execute_reply.started": "2023-02-16T11:33:15.799786Z",
          "shell.execute_reply": "2023-02-16T11:33:16.35733Z"
        },
        "trusted": true,
        "id": "VzQs__vJioI5"
      },
      "outputs": [],
      "execution_count": null
    },
    {
      "cell_type": "markdown",
      "source": [
        "### Money matter Oo"
      ],
      "metadata": {
        "id": "yUL44EVpioI5"
      }
    },
    {
      "cell_type": "markdown",
      "source": [
        "### Do you have more ideas about EDA?"
      ],
      "metadata": {
        "id": "DCHpMNKgioI5"
      }
    },
    {
      "cell_type": "code",
      "source": [
        "df.head(1)"
      ],
      "metadata": {
        "execution": {
          "iopub.status.busy": "2023-02-16T11:34:54.195858Z",
          "iopub.execute_input": "2023-02-16T11:34:54.196319Z",
          "iopub.status.idle": "2023-02-16T11:34:54.217435Z",
          "shell.execute_reply.started": "2023-02-16T11:34:54.196284Z",
          "shell.execute_reply": "2023-02-16T11:34:54.216363Z"
        },
        "trusted": true,
        "id": "9GYaMlHGioI5"
      },
      "outputs": [],
      "execution_count": null
    },
    {
      "cell_type": "markdown",
      "source": [
        "# Feature Engineering"
      ],
      "metadata": {
        "id": "3utK1cuHioI5"
      }
    },
    {
      "cell_type": "markdown",
      "source": [
        "### Split the data"
      ],
      "metadata": {
        "id": "2TwxEGtIioI5"
      }
    },
    {
      "cell_type": "code",
      "source": [
        "from sklearn.model_selection import train_test_split\n",
        "\n",
        "X, y = df.drop('Survived', axis=1), df['Survived']\n",
        "\n",
        "X_train, X_val, y_train, y_val = train_test_split(X, y, test_size=.4, random_state=42)\n",
        "X_val, X_test, y_val, y_test = train_test_split(X_val, y_val, test_size=.5, random_state=42)"
      ],
      "metadata": {
        "execution": {
          "iopub.status.busy": "2023-02-16T11:35:52.035206Z",
          "iopub.execute_input": "2023-02-16T11:35:52.036108Z",
          "iopub.status.idle": "2023-02-16T11:35:52.046682Z",
          "shell.execute_reply.started": "2023-02-16T11:35:52.036067Z",
          "shell.execute_reply": "2023-02-16T11:35:52.045766Z"
        },
        "trusted": true,
        "id": "DmNja1A2ioI5"
      },
      "outputs": [],
      "execution_count": null
    },
    {
      "cell_type": "code",
      "source": [
        "X_train.shape, X_val.shape, X_test.shape"
      ],
      "metadata": {
        "execution": {
          "iopub.status.busy": "2023-02-16T11:35:53.764745Z",
          "iopub.execute_input": "2023-02-16T11:35:53.765193Z",
          "iopub.status.idle": "2023-02-16T11:35:53.77156Z",
          "shell.execute_reply.started": "2023-02-16T11:35:53.765147Z",
          "shell.execute_reply": "2023-02-16T11:35:53.770604Z"
        },
        "trusted": true,
        "id": "zU2TEtTpioI5"
      },
      "outputs": [],
      "execution_count": null
    },
    {
      "cell_type": "code",
      "source": [
        "y_train.shape, y_val.shape, y_test.shape"
      ],
      "metadata": {
        "execution": {
          "iopub.status.busy": "2023-02-16T11:36:05.097569Z",
          "iopub.execute_input": "2023-02-16T11:36:05.098032Z",
          "iopub.status.idle": "2023-02-16T11:36:05.105035Z",
          "shell.execute_reply.started": "2023-02-16T11:36:05.097994Z",
          "shell.execute_reply": "2023-02-16T11:36:05.103693Z"
        },
        "trusted": true,
        "id": "SW5_UjSNioI6"
      },
      "outputs": [],
      "execution_count": null
    },
    {
      "cell_type": "markdown",
      "source": [
        "### Get rid of some columns"
      ],
      "metadata": {
        "id": "9hJbFesiioI6"
      }
    },
    {
      "cell_type": "code",
      "source": [
        "for data in [X_train, X_val, X_test]:\n",
        "    data.drop(['PassengerId', 'Name', 'Ticket', 'Number of family', 'cat_fare', 'Cabin'],\n",
        "              axis=1,\n",
        "              inplace=True)"
      ],
      "metadata": {
        "execution": {
          "iopub.status.busy": "2023-02-16T11:37:30.534686Z",
          "iopub.execute_input": "2023-02-16T11:37:30.535191Z",
          "iopub.status.idle": "2023-02-16T11:37:30.544862Z",
          "shell.execute_reply.started": "2023-02-16T11:37:30.535156Z",
          "shell.execute_reply": "2023-02-16T11:37:30.543792Z"
        },
        "trusted": true,
        "id": "fgoFQrnNioI6"
      },
      "outputs": [],
      "execution_count": null
    },
    {
      "cell_type": "markdown",
      "source": [
        "### Fill the missing data"
      ],
      "metadata": {
        "id": "p6vbcqd4ioI6"
      }
    },
    {
      "cell_type": "code",
      "source": [
        "X_train.isna().sum()"
      ],
      "metadata": {
        "execution": {
          "iopub.status.busy": "2023-02-16T11:37:41.804927Z",
          "iopub.execute_input": "2023-02-16T11:37:41.805944Z",
          "iopub.status.idle": "2023-02-16T11:37:41.815067Z",
          "shell.execute_reply.started": "2023-02-16T11:37:41.805899Z",
          "shell.execute_reply": "2023-02-16T11:37:41.813992Z"
        },
        "trusted": true,
        "id": "UQGGOcx7ioI6"
      },
      "outputs": [],
      "execution_count": null
    },
    {
      "cell_type": "code",
      "source": [
        "for data in [X_train, X_val, X_test]:\n",
        "    data['Age'].fillna(value=X_train['Age'].mean(), inplace=True)\n",
        "    data['Embarked'].fillna(value=X_train['Embarked'].mode()[0], inplace=True)"
      ],
      "metadata": {
        "execution": {
          "iopub.status.busy": "2023-02-16T11:39:09.48652Z",
          "iopub.execute_input": "2023-02-16T11:39:09.486988Z",
          "iopub.status.idle": "2023-02-16T11:39:09.499048Z",
          "shell.execute_reply.started": "2023-02-16T11:39:09.486952Z",
          "shell.execute_reply": "2023-02-16T11:39:09.497888Z"
        },
        "trusted": true,
        "id": "5xH-YmgHioI6"
      },
      "outputs": [],
      "execution_count": null
    },
    {
      "cell_type": "code",
      "source": [
        "X_train.isna().sum().any(), X_val.isna().sum().any(), X_test.isna().sum().any()"
      ],
      "metadata": {
        "execution": {
          "iopub.status.busy": "2023-02-16T11:39:15.771794Z",
          "iopub.execute_input": "2023-02-16T11:39:15.772214Z",
          "iopub.status.idle": "2023-02-16T11:39:15.787742Z",
          "shell.execute_reply.started": "2023-02-16T11:39:15.772178Z",
          "shell.execute_reply": "2023-02-16T11:39:15.786518Z"
        },
        "trusted": true,
        "id": "op_gphURioI6"
      },
      "outputs": [],
      "execution_count": null
    },
    {
      "cell_type": "markdown",
      "source": [
        "### Change categorical columns to numerical"
      ],
      "metadata": {
        "id": "I0EK1rI8ioI6"
      }
    },
    {
      "cell_type": "code",
      "source": [
        "sex_map = {'male':0, 'female':1}\n",
        "embarked_map = {'S':0, 'C':1, 'Q':2}\n",
        "\n",
        "for data in [X_train, X_val, X_test]:\n",
        "    data['Sex'] = data['Sex'].map(sex_map)\n",
        "    data['Embarked'] = data['Embarked'].map(embarked_map)"
      ],
      "metadata": {
        "execution": {
          "iopub.status.busy": "2023-02-16T11:40:07.257858Z",
          "iopub.execute_input": "2023-02-16T11:40:07.258319Z",
          "iopub.status.idle": "2023-02-16T11:40:07.27247Z",
          "shell.execute_reply.started": "2023-02-16T11:40:07.258281Z",
          "shell.execute_reply": "2023-02-16T11:40:07.271104Z"
        },
        "trusted": true,
        "id": "Ezqy5iFRioI6"
      },
      "outputs": [],
      "execution_count": null
    },
    {
      "cell_type": "markdown",
      "source": [
        "# Build a ML model"
      ],
      "metadata": {
        "id": "sDMJyWNkioI6"
      }
    },
    {
      "cell_type": "markdown",
      "source": [
        "### Build"
      ],
      "metadata": {
        "id": "YtclprfQioI6"
      }
    },
    {
      "cell_type": "code",
      "source": [
        "from sklearn.linear_model import LogisticRegression\n",
        "linear_model = LogisticRegression(max_iter=1000, random_state=42)"
      ],
      "metadata": {
        "execution": {
          "iopub.status.busy": "2023-02-16T11:40:33.68812Z",
          "iopub.execute_input": "2023-02-16T11:40:33.688976Z",
          "iopub.status.idle": "2023-02-16T11:40:33.777576Z",
          "shell.execute_reply.started": "2023-02-16T11:40:33.688935Z",
          "shell.execute_reply": "2023-02-16T11:40:33.776471Z"
        },
        "trusted": true,
        "id": "iJXS3s4rioI6"
      },
      "outputs": [],
      "execution_count": null
    },
    {
      "cell_type": "markdown",
      "source": [
        "### Fit"
      ],
      "metadata": {
        "id": "UwJYzckBioI6"
      }
    },
    {
      "cell_type": "code",
      "source": [
        "linear_model.fit(X_train, y_train)"
      ],
      "metadata": {
        "execution": {
          "iopub.status.busy": "2023-02-16T11:40:58.133507Z",
          "iopub.execute_input": "2023-02-16T11:40:58.13398Z",
          "iopub.status.idle": "2023-02-16T11:40:58.173071Z",
          "shell.execute_reply.started": "2023-02-16T11:40:58.133941Z",
          "shell.execute_reply": "2023-02-16T11:40:58.172Z"
        },
        "trusted": true,
        "id": "ZtjPQ8n1ioI7"
      },
      "outputs": [],
      "execution_count": null
    },
    {
      "cell_type": "markdown",
      "source": [
        "### Test the model on the validation set"
      ],
      "metadata": {
        "id": "jjL0A07ZioI7"
      }
    },
    {
      "cell_type": "code",
      "source": [
        "print('Actual :', y_train[-5:].values)\n",
        "print('Prediction :', linear_model.predict(X_train)[-5:])"
      ],
      "metadata": {
        "execution": {
          "iopub.status.busy": "2023-02-16T11:41:07.057072Z",
          "iopub.execute_input": "2023-02-16T11:41:07.057544Z",
          "iopub.status.idle": "2023-02-16T11:41:07.067777Z",
          "shell.execute_reply.started": "2023-02-16T11:41:07.057505Z",
          "shell.execute_reply": "2023-02-16T11:41:07.066698Z"
        },
        "trusted": true,
        "id": "YHRXJ4KxioI7"
      },
      "outputs": [],
      "execution_count": null
    },
    {
      "cell_type": "code",
      "source": [
        "from sklearn.metrics import accuracy_score\n",
        "\n",
        "print('Train accuracy ==> ', accuracy_score(y_train, linear_model.predict(X_train)))\n",
        "print('Val accuracy ==> ', accuracy_score(y_val, linear_model.predict(X_val)))"
      ],
      "metadata": {
        "execution": {
          "iopub.status.busy": "2023-02-16T11:43:03.343962Z",
          "iopub.execute_input": "2023-02-16T11:43:03.344451Z",
          "iopub.status.idle": "2023-02-16T11:43:03.356865Z",
          "shell.execute_reply.started": "2023-02-16T11:43:03.344416Z",
          "shell.execute_reply": "2023-02-16T11:43:03.356091Z"
        },
        "trusted": true,
        "id": "NXiSZ7w2ioI7"
      },
      "outputs": [],
      "execution_count": null
    },
    {
      "cell_type": "markdown",
      "source": [
        "### Compare with another model"
      ],
      "metadata": {
        "id": "oKmpZvJBioI7"
      }
    },
    {
      "cell_type": "code",
      "source": [
        "from sklearn.svm import SVC\n",
        "\n",
        "model = SVC()\n",
        "model.fit(X_train, y_train)\n",
        "\n",
        "print('Train accuracy ==> ', accuracy_score(y_train, model.predict(X_train)))\n",
        "print('Val accuracy ==> ', accuracy_score(y_val, model.predict(X_val)))"
      ],
      "metadata": {
        "execution": {
          "iopub.status.busy": "2023-02-16T11:44:07.809404Z",
          "iopub.execute_input": "2023-02-16T11:44:07.809844Z",
          "iopub.status.idle": "2023-02-16T11:44:07.858031Z",
          "shell.execute_reply.started": "2023-02-16T11:44:07.809808Z",
          "shell.execute_reply": "2023-02-16T11:44:07.856627Z"
        },
        "trusted": true,
        "id": "Cizf8dkhioI7"
      },
      "outputs": [],
      "execution_count": null
    },
    {
      "cell_type": "code",
      "source": [
        "model = SVC(C=20)\n",
        "model.fit(X_train, y_train)\n",
        "\n",
        "print('Train accuracy ==> ', accuracy_score(y_train, model.predict(X_train)))\n",
        "print('Val accuracy ==> ', accuracy_score(y_val, model.predict(X_val)))"
      ],
      "metadata": {
        "execution": {
          "iopub.status.busy": "2023-02-16T11:44:29.519104Z",
          "iopub.execute_input": "2023-02-16T11:44:29.519505Z",
          "iopub.status.idle": "2023-02-16T11:44:29.561912Z",
          "shell.execute_reply.started": "2023-02-16T11:44:29.519474Z",
          "shell.execute_reply": "2023-02-16T11:44:29.560715Z"
        },
        "trusted": true,
        "id": "FQKL1sqxioI7"
      },
      "outputs": [],
      "execution_count": null
    },
    {
      "cell_type": "code",
      "source": [
        "model = SVC(kernel='linear')\n",
        "model.fit(X_train, y_train)\n",
        "\n",
        "print('Train accuracy ==> ', accuracy_score(y_train, model.predict(X_train)))\n",
        "print('Val accuracy ==> ', accuracy_score(y_val, model.predict(X_val)))"
      ],
      "metadata": {
        "execution": {
          "iopub.status.busy": "2023-02-16T11:44:38.419363Z",
          "iopub.execute_input": "2023-02-16T11:44:38.419806Z",
          "iopub.status.idle": "2023-02-16T11:44:48.042734Z",
          "shell.execute_reply.started": "2023-02-16T11:44:38.419769Z",
          "shell.execute_reply": "2023-02-16T11:44:48.041607Z"
        },
        "trusted": true,
        "id": "k4U22FEEioI7"
      },
      "outputs": [],
      "execution_count": null
    },
    {
      "cell_type": "markdown",
      "source": [
        "# Check the test set"
      ],
      "metadata": {
        "id": "DNnGrH2iioI7"
      }
    },
    {
      "cell_type": "code",
      "source": [
        "accuracy_score(y_test, linear_model.predict(X_test))"
      ],
      "metadata": {
        "execution": {
          "iopub.status.busy": "2023-02-16T11:45:02.66232Z",
          "iopub.execute_input": "2023-02-16T11:45:02.662764Z",
          "iopub.status.idle": "2023-02-16T11:45:02.672274Z",
          "shell.execute_reply.started": "2023-02-16T11:45:02.662727Z",
          "shell.execute_reply": "2023-02-16T11:45:02.671266Z"
        },
        "trusted": true,
        "id": "E22Ct6lHioI7"
      },
      "outputs": [],
      "execution_count": null
    },
    {
      "cell_type": "markdown",
      "source": [
        "# DL"
      ],
      "metadata": {
        "id": "tDIgjQ4OioI8"
      }
    },
    {
      "cell_type": "code",
      "source": [
        "from keras.models import Sequential\n",
        "from keras.layers import Dense\n",
        "\n",
        "# create the model\n",
        "model = Sequential()\n",
        "model.add(Dense(8, input_dim=X_train.shape[1], activation='relu'))\n",
        "model.add(Dense(1, activation='sigmoid'))\n",
        "\n",
        "# compile the model\n",
        "model.compile(loss='binary_crossentropy', optimizer='adam', metrics=['accuracy'])\n",
        "\n",
        "# fit the model\n",
        "model.fit(X_train, y_train, validation_data=(X_val, y_val), epochs=50, batch_size=64)"
      ],
      "metadata": {
        "execution": {
          "iopub.status.busy": "2023-02-16T11:47:37.737663Z",
          "iopub.execute_input": "2023-02-16T11:47:37.738213Z",
          "iopub.status.idle": "2023-02-16T11:47:48.933958Z",
          "shell.execute_reply.started": "2023-02-16T11:47:37.738177Z",
          "shell.execute_reply": "2023-02-16T11:47:48.932972Z"
        },
        "trusted": true,
        "id": "2Uu166SeioI8"
      },
      "outputs": [],
      "execution_count": null
    },
    {
      "cell_type": "code",
      "source": [
        "model.evaluate(X_test, y_test)"
      ],
      "metadata": {
        "execution": {
          "iopub.status.busy": "2023-02-16T11:48:34.118345Z",
          "iopub.execute_input": "2023-02-16T11:48:34.118815Z",
          "iopub.status.idle": "2023-02-16T11:48:34.213775Z",
          "shell.execute_reply.started": "2023-02-16T11:48:34.118776Z",
          "shell.execute_reply": "2023-02-16T11:48:34.21273Z"
        },
        "trusted": true,
        "id": "ssjltpVBioI8"
      },
      "outputs": [],
      "execution_count": null
    },
    {
      "cell_type": "code",
      "source": [],
      "metadata": {
        "id": "6c3q-PvrioI8"
      },
      "outputs": [],
      "execution_count": null
    }
  ]
}